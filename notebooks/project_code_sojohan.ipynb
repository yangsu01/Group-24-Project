{
 "cells": [
  {
   "cell_type": "code",
   "execution_count": 1,
   "id": "39db1fc5",
   "metadata": {},
   "outputs": [
    {
     "name": "stderr",
     "output_type": "stream",
     "text": [
      "/Users/Soren.Johansenc3.ai/.local/lib/python3.8/site-packages/matplotlib/__init__.py:152: DeprecationWarning: distutils Version classes are deprecated. Use packaging.version instead.\n",
      "  if LooseVersion(module.__version__) < minver:\n",
      "/opt/anaconda3/envs/odeNeural/lib/python3.8/site-packages/setuptools/_distutils/version.py:346: DeprecationWarning: distutils Version classes are deprecated. Use packaging.version instead.\n",
      "  other = LooseVersion(other)\n",
      "/Users/Soren.Johansenc3.ai/.local/lib/python3.8/site-packages/matplotlib/__init__.py:152: DeprecationWarning: distutils Version classes are deprecated. Use packaging.version instead.\n",
      "  if LooseVersion(module.__version__) < minver:\n",
      "/opt/anaconda3/envs/odeNeural/lib/python3.8/site-packages/setuptools/_distutils/version.py:346: DeprecationWarning: distutils Version classes are deprecated. Use packaging.version instead.\n",
      "  other = LooseVersion(other)\n",
      "/Users/Soren.Johansenc3.ai/.local/lib/python3.8/site-packages/matplotlib/__init__.py:152: DeprecationWarning: distutils Version classes are deprecated. Use packaging.version instead.\n",
      "  if LooseVersion(module.__version__) < minver:\n",
      "/opt/anaconda3/envs/odeNeural/lib/python3.8/site-packages/setuptools/_distutils/version.py:346: DeprecationWarning: distutils Version classes are deprecated. Use packaging.version instead.\n",
      "  other = LooseVersion(other)\n",
      "/Users/Soren.Johansenc3.ai/.local/lib/python3.8/site-packages/matplotlib/__init__.py:152: DeprecationWarning: distutils Version classes are deprecated. Use packaging.version instead.\n",
      "  if LooseVersion(module.__version__) < minver:\n",
      "/opt/anaconda3/envs/odeNeural/lib/python3.8/site-packages/setuptools/_distutils/version.py:346: DeprecationWarning: distutils Version classes are deprecated. Use packaging.version instead.\n",
      "  other = LooseVersion(other)\n",
      "/Users/Soren.Johansenc3.ai/.local/lib/python3.8/site-packages/matplotlib/__init__.py:152: DeprecationWarning: distutils Version classes are deprecated. Use packaging.version instead.\n",
      "  if LooseVersion(module.__version__) < minver:\n",
      "/opt/anaconda3/envs/odeNeural/lib/python3.8/site-packages/setuptools/_distutils/version.py:346: DeprecationWarning: distutils Version classes are deprecated. Use packaging.version instead.\n",
      "  other = LooseVersion(other)\n",
      "/Users/Soren.Johansenc3.ai/.local/lib/python3.8/site-packages/seaborn/rcmod.py:82: DeprecationWarning: distutils Version classes are deprecated. Use packaging.version instead.\n",
      "  if LooseVersion(mpl.__version__) >= \"3.0\":\n",
      "/opt/anaconda3/envs/odeNeural/lib/python3.8/site-packages/setuptools/_distutils/version.py:346: DeprecationWarning: distutils Version classes are deprecated. Use packaging.version instead.\n",
      "  other = LooseVersion(other)\n"
     ]
    }
   ],
   "source": [
    "import pandas as pd\n",
    "import numpy as np\n",
    "import csv\n",
    "from mlxtend.preprocessing import TransactionEncoder\n",
    "from mlxtend.frequent_patterns import apriori\n",
    "from mlxtend.frequent_patterns import fpgrowth\n",
    "from mlxtend.frequent_patterns import association_rules\n",
    "import warnings \n",
    "import seaborn as sns\n",
    "import matplotlib.pyplot as plt\n",
    "warnings.filterwarnings('ignore')"
   ]
  },
  {
   "cell_type": "markdown",
   "id": "40ceb975",
   "metadata": {},
   "source": [
    "# Content:\n",
    "## Import and join dataframes\n",
    "## Top selling Products\n",
    "## Purchases over time\n",
    "## Correlation\n",
    "## Complexity of Apriori method\n",
    "## Aprori Analysis"
   ]
  },
  {
   "cell_type": "markdown",
   "id": "74564ddf",
   "metadata": {},
   "source": [
    "All the calculations is defined as a function. "
   ]
  },
  {
   "cell_type": "markdown",
   "id": "2d73da4d",
   "metadata": {},
   "source": [
    "## Import data and join dataframes"
   ]
  },
  {
   "cell_type": "code",
   "execution_count": 2,
   "id": "cafc8f78",
   "metadata": {},
   "outputs": [],
   "source": [
    "df_cust=pd.read_csv('./data/customers.csv')"
   ]
  },
  {
   "cell_type": "code",
   "execution_count": 3,
   "id": "cf2f2364",
   "metadata": {},
   "outputs": [
    {
     "data": {
      "text/html": [
       "<div>\n",
       "<style scoped>\n",
       "    .dataframe tbody tr th:only-of-type {\n",
       "        vertical-align: middle;\n",
       "    }\n",
       "\n",
       "    .dataframe tbody tr th {\n",
       "        vertical-align: top;\n",
       "    }\n",
       "\n",
       "    .dataframe thead th {\n",
       "        text-align: right;\n",
       "    }\n",
       "</style>\n",
       "<table border=\"1\" class=\"dataframe\">\n",
       "  <thead>\n",
       "    <tr style=\"text-align: right;\">\n",
       "      <th></th>\n",
       "      <th>customer_id</th>\n",
       "      <th>FN</th>\n",
       "      <th>Active</th>\n",
       "      <th>club_member_status</th>\n",
       "      <th>fashion_news_frequency</th>\n",
       "      <th>age</th>\n",
       "      <th>postal_code</th>\n",
       "    </tr>\n",
       "  </thead>\n",
       "  <tbody>\n",
       "    <tr>\n",
       "      <th>0</th>\n",
       "      <td>00000dbacae5abe5e23885899a1fa44253a17956c6d1c3...</td>\n",
       "      <td>NaN</td>\n",
       "      <td>NaN</td>\n",
       "      <td>ACTIVE</td>\n",
       "      <td>NONE</td>\n",
       "      <td>49.0</td>\n",
       "      <td>52043ee2162cf5aa7ee79974281641c6f11a68d276429a...</td>\n",
       "    </tr>\n",
       "    <tr>\n",
       "      <th>1</th>\n",
       "      <td>0000423b00ade91418cceaf3b26c6af3dd342b51fd051e...</td>\n",
       "      <td>NaN</td>\n",
       "      <td>NaN</td>\n",
       "      <td>ACTIVE</td>\n",
       "      <td>NONE</td>\n",
       "      <td>25.0</td>\n",
       "      <td>2973abc54daa8a5f8ccfe9362140c63247c5eee03f1d93...</td>\n",
       "    </tr>\n",
       "    <tr>\n",
       "      <th>2</th>\n",
       "      <td>000058a12d5b43e67d225668fa1f8d618c13dc232df0ca...</td>\n",
       "      <td>NaN</td>\n",
       "      <td>NaN</td>\n",
       "      <td>ACTIVE</td>\n",
       "      <td>NONE</td>\n",
       "      <td>24.0</td>\n",
       "      <td>64f17e6a330a85798e4998f62d0930d14db8db1c054af6...</td>\n",
       "    </tr>\n",
       "    <tr>\n",
       "      <th>3</th>\n",
       "      <td>00005ca1c9ed5f5146b52ac8639a40ca9d57aeff4d1bd2...</td>\n",
       "      <td>NaN</td>\n",
       "      <td>NaN</td>\n",
       "      <td>ACTIVE</td>\n",
       "      <td>NONE</td>\n",
       "      <td>54.0</td>\n",
       "      <td>5d36574f52495e81f019b680c843c443bd343d5ca5b1c2...</td>\n",
       "    </tr>\n",
       "    <tr>\n",
       "      <th>4</th>\n",
       "      <td>00006413d8573cd20ed7128e53b7b13819fe5cfc2d801f...</td>\n",
       "      <td>1.0</td>\n",
       "      <td>1.0</td>\n",
       "      <td>ACTIVE</td>\n",
       "      <td>Regularly</td>\n",
       "      <td>52.0</td>\n",
       "      <td>25fa5ddee9aac01b35208d01736e57942317d756b32ddd...</td>\n",
       "    </tr>\n",
       "  </tbody>\n",
       "</table>\n",
       "</div>"
      ],
      "text/plain": [
       "                                         customer_id   FN  Active  \\\n",
       "0  00000dbacae5abe5e23885899a1fa44253a17956c6d1c3...  NaN     NaN   \n",
       "1  0000423b00ade91418cceaf3b26c6af3dd342b51fd051e...  NaN     NaN   \n",
       "2  000058a12d5b43e67d225668fa1f8d618c13dc232df0ca...  NaN     NaN   \n",
       "3  00005ca1c9ed5f5146b52ac8639a40ca9d57aeff4d1bd2...  NaN     NaN   \n",
       "4  00006413d8573cd20ed7128e53b7b13819fe5cfc2d801f...  1.0     1.0   \n",
       "\n",
       "  club_member_status fashion_news_frequency   age  \\\n",
       "0             ACTIVE                   NONE  49.0   \n",
       "1             ACTIVE                   NONE  25.0   \n",
       "2             ACTIVE                   NONE  24.0   \n",
       "3             ACTIVE                   NONE  54.0   \n",
       "4             ACTIVE              Regularly  52.0   \n",
       "\n",
       "                                         postal_code  \n",
       "0  52043ee2162cf5aa7ee79974281641c6f11a68d276429a...  \n",
       "1  2973abc54daa8a5f8ccfe9362140c63247c5eee03f1d93...  \n",
       "2  64f17e6a330a85798e4998f62d0930d14db8db1c054af6...  \n",
       "3  5d36574f52495e81f019b680c843c443bd343d5ca5b1c2...  \n",
       "4  25fa5ddee9aac01b35208d01736e57942317d756b32ddd...  "
      ]
     },
     "execution_count": 3,
     "metadata": {},
     "output_type": "execute_result"
    }
   ],
   "source": [
    "df_cust.head()"
   ]
  },
  {
   "cell_type": "code",
   "execution_count": 4,
   "id": "7ad1e114",
   "metadata": {},
   "outputs": [],
   "source": [
    "df_articles=pd.read_csv('./data/articles.csv')"
   ]
  },
  {
   "cell_type": "code",
   "execution_count": 5,
   "id": "d3f7baca",
   "metadata": {},
   "outputs": [
    {
     "data": {
      "text/html": [
       "<div>\n",
       "<style scoped>\n",
       "    .dataframe tbody tr th:only-of-type {\n",
       "        vertical-align: middle;\n",
       "    }\n",
       "\n",
       "    .dataframe tbody tr th {\n",
       "        vertical-align: top;\n",
       "    }\n",
       "\n",
       "    .dataframe thead th {\n",
       "        text-align: right;\n",
       "    }\n",
       "</style>\n",
       "<table border=\"1\" class=\"dataframe\">\n",
       "  <thead>\n",
       "    <tr style=\"text-align: right;\">\n",
       "      <th></th>\n",
       "      <th>article_id</th>\n",
       "      <th>product_code</th>\n",
       "      <th>prod_name</th>\n",
       "      <th>product_type_no</th>\n",
       "      <th>product_type_name</th>\n",
       "      <th>product_group_name</th>\n",
       "      <th>graphical_appearance_no</th>\n",
       "      <th>graphical_appearance_name</th>\n",
       "      <th>colour_group_code</th>\n",
       "      <th>colour_group_name</th>\n",
       "      <th>...</th>\n",
       "      <th>department_name</th>\n",
       "      <th>index_code</th>\n",
       "      <th>index_name</th>\n",
       "      <th>index_group_no</th>\n",
       "      <th>index_group_name</th>\n",
       "      <th>section_no</th>\n",
       "      <th>section_name</th>\n",
       "      <th>garment_group_no</th>\n",
       "      <th>garment_group_name</th>\n",
       "      <th>detail_desc</th>\n",
       "    </tr>\n",
       "  </thead>\n",
       "  <tbody>\n",
       "    <tr>\n",
       "      <th>0</th>\n",
       "      <td>108775015</td>\n",
       "      <td>108775</td>\n",
       "      <td>Strap top</td>\n",
       "      <td>253</td>\n",
       "      <td>Vest top</td>\n",
       "      <td>Garment Upper body</td>\n",
       "      <td>1010016</td>\n",
       "      <td>Solid</td>\n",
       "      <td>9</td>\n",
       "      <td>Black</td>\n",
       "      <td>...</td>\n",
       "      <td>Jersey Basic</td>\n",
       "      <td>A</td>\n",
       "      <td>Ladieswear</td>\n",
       "      <td>1</td>\n",
       "      <td>Ladieswear</td>\n",
       "      <td>16</td>\n",
       "      <td>Womens Everyday Basics</td>\n",
       "      <td>1002</td>\n",
       "      <td>Jersey Basic</td>\n",
       "      <td>Jersey top with narrow shoulder straps.</td>\n",
       "    </tr>\n",
       "    <tr>\n",
       "      <th>1</th>\n",
       "      <td>108775044</td>\n",
       "      <td>108775</td>\n",
       "      <td>Strap top</td>\n",
       "      <td>253</td>\n",
       "      <td>Vest top</td>\n",
       "      <td>Garment Upper body</td>\n",
       "      <td>1010016</td>\n",
       "      <td>Solid</td>\n",
       "      <td>10</td>\n",
       "      <td>White</td>\n",
       "      <td>...</td>\n",
       "      <td>Jersey Basic</td>\n",
       "      <td>A</td>\n",
       "      <td>Ladieswear</td>\n",
       "      <td>1</td>\n",
       "      <td>Ladieswear</td>\n",
       "      <td>16</td>\n",
       "      <td>Womens Everyday Basics</td>\n",
       "      <td>1002</td>\n",
       "      <td>Jersey Basic</td>\n",
       "      <td>Jersey top with narrow shoulder straps.</td>\n",
       "    </tr>\n",
       "    <tr>\n",
       "      <th>2</th>\n",
       "      <td>108775051</td>\n",
       "      <td>108775</td>\n",
       "      <td>Strap top (1)</td>\n",
       "      <td>253</td>\n",
       "      <td>Vest top</td>\n",
       "      <td>Garment Upper body</td>\n",
       "      <td>1010017</td>\n",
       "      <td>Stripe</td>\n",
       "      <td>11</td>\n",
       "      <td>Off White</td>\n",
       "      <td>...</td>\n",
       "      <td>Jersey Basic</td>\n",
       "      <td>A</td>\n",
       "      <td>Ladieswear</td>\n",
       "      <td>1</td>\n",
       "      <td>Ladieswear</td>\n",
       "      <td>16</td>\n",
       "      <td>Womens Everyday Basics</td>\n",
       "      <td>1002</td>\n",
       "      <td>Jersey Basic</td>\n",
       "      <td>Jersey top with narrow shoulder straps.</td>\n",
       "    </tr>\n",
       "  </tbody>\n",
       "</table>\n",
       "<p>3 rows × 25 columns</p>\n",
       "</div>"
      ],
      "text/plain": [
       "   article_id  product_code      prod_name  product_type_no product_type_name  \\\n",
       "0   108775015        108775      Strap top              253          Vest top   \n",
       "1   108775044        108775      Strap top              253          Vest top   \n",
       "2   108775051        108775  Strap top (1)              253          Vest top   \n",
       "\n",
       "   product_group_name  graphical_appearance_no graphical_appearance_name  \\\n",
       "0  Garment Upper body                  1010016                     Solid   \n",
       "1  Garment Upper body                  1010016                     Solid   \n",
       "2  Garment Upper body                  1010017                    Stripe   \n",
       "\n",
       "   colour_group_code colour_group_name  ...  department_name index_code  \\\n",
       "0                  9             Black  ...     Jersey Basic          A   \n",
       "1                 10             White  ...     Jersey Basic          A   \n",
       "2                 11         Off White  ...     Jersey Basic          A   \n",
       "\n",
       "   index_name index_group_no  index_group_name section_no  \\\n",
       "0  Ladieswear              1        Ladieswear         16   \n",
       "1  Ladieswear              1        Ladieswear         16   \n",
       "2  Ladieswear              1        Ladieswear         16   \n",
       "\n",
       "             section_name garment_group_no  garment_group_name  \\\n",
       "0  Womens Everyday Basics             1002        Jersey Basic   \n",
       "1  Womens Everyday Basics             1002        Jersey Basic   \n",
       "2  Womens Everyday Basics             1002        Jersey Basic   \n",
       "\n",
       "                               detail_desc  \n",
       "0  Jersey top with narrow shoulder straps.  \n",
       "1  Jersey top with narrow shoulder straps.  \n",
       "2  Jersey top with narrow shoulder straps.  \n",
       "\n",
       "[3 rows x 25 columns]"
      ]
     },
     "execution_count": 5,
     "metadata": {},
     "output_type": "execute_result"
    }
   ],
   "source": [
    "df_articles.head(3)"
   ]
  },
  {
   "cell_type": "code",
   "execution_count": 6,
   "id": "d38c90fe",
   "metadata": {},
   "outputs": [
    {
     "data": {
      "text/plain": [
       "(45875,)"
      ]
     },
     "execution_count": 6,
     "metadata": {},
     "output_type": "execute_result"
    }
   ],
   "source": [
    "df_articles.prod_name.unique().shape"
   ]
  },
  {
   "cell_type": "code",
   "execution_count": 7,
   "id": "2d626f46",
   "metadata": {},
   "outputs": [
    {
     "data": {
      "text/plain": [
       "array(['Ladieswear', 'Baby/Children', 'Menswear', 'Sport', 'Divided'],\n",
       "      dtype=object)"
      ]
     },
     "execution_count": 7,
     "metadata": {},
     "output_type": "execute_result"
    }
   ],
   "source": [
    "df_articles.index_group_name.unique()"
   ]
  },
  {
   "cell_type": "code",
   "execution_count": 8,
   "id": "d18a82f4",
   "metadata": {},
   "outputs": [
    {
     "data": {
      "text/plain": [
       "(131,)"
      ]
     },
     "execution_count": 8,
     "metadata": {},
     "output_type": "execute_result"
    }
   ],
   "source": [
    "df_articles.product_type_name.unique().shape"
   ]
  },
  {
   "cell_type": "code",
   "execution_count": 9,
   "id": "b6573e20",
   "metadata": {},
   "outputs": [],
   "source": [
    "df_trans=pd.read_csv('./data/transactions_train.csv')"
   ]
  },
  {
   "cell_type": "code",
   "execution_count": 10,
   "id": "2dbf5ebe",
   "metadata": {},
   "outputs": [
    {
     "data": {
      "text/plain": [
       "(31788324, 5)"
      ]
     },
     "execution_count": 10,
     "metadata": {},
     "output_type": "execute_result"
    }
   ],
   "source": [
    "df_trans.shape"
   ]
  },
  {
   "cell_type": "code",
   "execution_count": 11,
   "id": "b9696241",
   "metadata": {},
   "outputs": [
    {
     "data": {
      "text/html": [
       "<div>\n",
       "<style scoped>\n",
       "    .dataframe tbody tr th:only-of-type {\n",
       "        vertical-align: middle;\n",
       "    }\n",
       "\n",
       "    .dataframe tbody tr th {\n",
       "        vertical-align: top;\n",
       "    }\n",
       "\n",
       "    .dataframe thead th {\n",
       "        text-align: right;\n",
       "    }\n",
       "</style>\n",
       "<table border=\"1\" class=\"dataframe\">\n",
       "  <thead>\n",
       "    <tr style=\"text-align: right;\">\n",
       "      <th></th>\n",
       "      <th>t_dat</th>\n",
       "      <th>customer_id</th>\n",
       "      <th>article_id</th>\n",
       "      <th>price</th>\n",
       "      <th>sales_channel_id</th>\n",
       "    </tr>\n",
       "  </thead>\n",
       "  <tbody>\n",
       "    <tr>\n",
       "      <th>0</th>\n",
       "      <td>2018-09-20</td>\n",
       "      <td>000058a12d5b43e67d225668fa1f8d618c13dc232df0ca...</td>\n",
       "      <td>663713001</td>\n",
       "      <td>0.050831</td>\n",
       "      <td>2</td>\n",
       "    </tr>\n",
       "    <tr>\n",
       "      <th>1</th>\n",
       "      <td>2018-09-20</td>\n",
       "      <td>000058a12d5b43e67d225668fa1f8d618c13dc232df0ca...</td>\n",
       "      <td>541518023</td>\n",
       "      <td>0.030492</td>\n",
       "      <td>2</td>\n",
       "    </tr>\n",
       "    <tr>\n",
       "      <th>2</th>\n",
       "      <td>2018-09-20</td>\n",
       "      <td>00007d2de826758b65a93dd24ce629ed66842531df6699...</td>\n",
       "      <td>505221004</td>\n",
       "      <td>0.015237</td>\n",
       "      <td>2</td>\n",
       "    </tr>\n",
       "    <tr>\n",
       "      <th>3</th>\n",
       "      <td>2018-09-20</td>\n",
       "      <td>00007d2de826758b65a93dd24ce629ed66842531df6699...</td>\n",
       "      <td>685687003</td>\n",
       "      <td>0.016932</td>\n",
       "      <td>2</td>\n",
       "    </tr>\n",
       "    <tr>\n",
       "      <th>4</th>\n",
       "      <td>2018-09-20</td>\n",
       "      <td>00007d2de826758b65a93dd24ce629ed66842531df6699...</td>\n",
       "      <td>685687004</td>\n",
       "      <td>0.016932</td>\n",
       "      <td>2</td>\n",
       "    </tr>\n",
       "  </tbody>\n",
       "</table>\n",
       "</div>"
      ],
      "text/plain": [
       "        t_dat                                        customer_id  article_id  \\\n",
       "0  2018-09-20  000058a12d5b43e67d225668fa1f8d618c13dc232df0ca...   663713001   \n",
       "1  2018-09-20  000058a12d5b43e67d225668fa1f8d618c13dc232df0ca...   541518023   \n",
       "2  2018-09-20  00007d2de826758b65a93dd24ce629ed66842531df6699...   505221004   \n",
       "3  2018-09-20  00007d2de826758b65a93dd24ce629ed66842531df6699...   685687003   \n",
       "4  2018-09-20  00007d2de826758b65a93dd24ce629ed66842531df6699...   685687004   \n",
       "\n",
       "      price  sales_channel_id  \n",
       "0  0.050831                 2  \n",
       "1  0.030492                 2  \n",
       "2  0.015237                 2  \n",
       "3  0.016932                 2  \n",
       "4  0.016932                 2  "
      ]
     },
     "execution_count": 11,
     "metadata": {},
     "output_type": "execute_result"
    }
   ],
   "source": [
    "df_trans.head()"
   ]
  },
  {
   "cell_type": "code",
   "execution_count": 12,
   "id": "2f5892b4",
   "metadata": {},
   "outputs": [],
   "source": [
    "df_trans['t_dat'] = pd.to_datetime(df_trans['t_dat'])"
   ]
  },
  {
   "cell_type": "code",
   "execution_count": 13,
   "id": "5c6af793",
   "metadata": {},
   "outputs": [
    {
     "data": {
      "text/plain": [
       "Timestamp('2018-09-20 00:00:00')"
      ]
     },
     "execution_count": 13,
     "metadata": {},
     "output_type": "execute_result"
    }
   ],
   "source": [
    "df_trans.t_dat.min()"
   ]
  },
  {
   "cell_type": "code",
   "execution_count": 14,
   "id": "badbf126",
   "metadata": {},
   "outputs": [
    {
     "data": {
      "text/plain": [
       "Timestamp('2020-09-22 00:00:00')"
      ]
     },
     "execution_count": 14,
     "metadata": {},
     "output_type": "execute_result"
    }
   ],
   "source": [
    "df_trans.t_dat.max()"
   ]
  },
  {
   "cell_type": "markdown",
   "id": "9e7ceeb5",
   "metadata": {},
   "source": [
    "Time span in days"
   ]
  },
  {
   "cell_type": "code",
   "execution_count": 15,
   "id": "6861559c",
   "metadata": {},
   "outputs": [],
   "source": [
    "spandays=(df_trans.t_dat.max()-df_trans.t_dat.min())"
   ]
  },
  {
   "cell_type": "code",
   "execution_count": 16,
   "id": "bd899ddc",
   "metadata": {},
   "outputs": [
    {
     "name": "stdout",
     "output_type": "stream",
     "text": [
      "Span in Years 2.006885836122576\n"
     ]
    }
   ],
   "source": [
    "print('Span in Years',spandays / np.timedelta64(1, 'Y'))"
   ]
  },
  {
   "cell_type": "markdown",
   "id": "47e25477",
   "metadata": {},
   "source": [
    "On transaction data frame join the articles data frame"
   ]
  },
  {
   "cell_type": "code",
   "execution_count": 17,
   "id": "904d59d3",
   "metadata": {},
   "outputs": [],
   "source": [
    "newdf=df_trans.merge(df_articles,on='article_id', how='left')"
   ]
  },
  {
   "cell_type": "code",
   "execution_count": 18,
   "id": "b3324b00",
   "metadata": {},
   "outputs": [
    {
     "data": {
      "text/html": [
       "<div>\n",
       "<style scoped>\n",
       "    .dataframe tbody tr th:only-of-type {\n",
       "        vertical-align: middle;\n",
       "    }\n",
       "\n",
       "    .dataframe tbody tr th {\n",
       "        vertical-align: top;\n",
       "    }\n",
       "\n",
       "    .dataframe thead th {\n",
       "        text-align: right;\n",
       "    }\n",
       "</style>\n",
       "<table border=\"1\" class=\"dataframe\">\n",
       "  <thead>\n",
       "    <tr style=\"text-align: right;\">\n",
       "      <th></th>\n",
       "      <th>t_dat</th>\n",
       "      <th>customer_id</th>\n",
       "      <th>article_id</th>\n",
       "      <th>price</th>\n",
       "      <th>sales_channel_id</th>\n",
       "      <th>product_code</th>\n",
       "      <th>prod_name</th>\n",
       "      <th>product_type_no</th>\n",
       "      <th>product_type_name</th>\n",
       "      <th>product_group_name</th>\n",
       "      <th>...</th>\n",
       "      <th>department_name</th>\n",
       "      <th>index_code</th>\n",
       "      <th>index_name</th>\n",
       "      <th>index_group_no</th>\n",
       "      <th>index_group_name</th>\n",
       "      <th>section_no</th>\n",
       "      <th>section_name</th>\n",
       "      <th>garment_group_no</th>\n",
       "      <th>garment_group_name</th>\n",
       "      <th>detail_desc</th>\n",
       "    </tr>\n",
       "  </thead>\n",
       "  <tbody>\n",
       "    <tr>\n",
       "      <th>0</th>\n",
       "      <td>2018-09-20</td>\n",
       "      <td>000058a12d5b43e67d225668fa1f8d618c13dc232df0ca...</td>\n",
       "      <td>663713001</td>\n",
       "      <td>0.050831</td>\n",
       "      <td>2</td>\n",
       "      <td>663713</td>\n",
       "      <td>Atlanta Push Body Harlow</td>\n",
       "      <td>283</td>\n",
       "      <td>Underwear body</td>\n",
       "      <td>Underwear</td>\n",
       "      <td>...</td>\n",
       "      <td>Expressive Lingerie</td>\n",
       "      <td>B</td>\n",
       "      <td>Lingeries/Tights</td>\n",
       "      <td>1</td>\n",
       "      <td>Ladieswear</td>\n",
       "      <td>61</td>\n",
       "      <td>Womens Lingerie</td>\n",
       "      <td>1017</td>\n",
       "      <td>Under-, Nightwear</td>\n",
       "      <td>Lace push-up body with underwired, moulded, pa...</td>\n",
       "    </tr>\n",
       "    <tr>\n",
       "      <th>1</th>\n",
       "      <td>2018-09-20</td>\n",
       "      <td>000058a12d5b43e67d225668fa1f8d618c13dc232df0ca...</td>\n",
       "      <td>541518023</td>\n",
       "      <td>0.030492</td>\n",
       "      <td>2</td>\n",
       "      <td>541518</td>\n",
       "      <td>Rae Push (Melbourne) 2p</td>\n",
       "      <td>306</td>\n",
       "      <td>Bra</td>\n",
       "      <td>Underwear</td>\n",
       "      <td>...</td>\n",
       "      <td>Casual Lingerie</td>\n",
       "      <td>B</td>\n",
       "      <td>Lingeries/Tights</td>\n",
       "      <td>1</td>\n",
       "      <td>Ladieswear</td>\n",
       "      <td>61</td>\n",
       "      <td>Womens Lingerie</td>\n",
       "      <td>1017</td>\n",
       "      <td>Under-, Nightwear</td>\n",
       "      <td>Lace push-up bras with underwired, moulded, pa...</td>\n",
       "    </tr>\n",
       "  </tbody>\n",
       "</table>\n",
       "<p>2 rows × 29 columns</p>\n",
       "</div>"
      ],
      "text/plain": [
       "       t_dat                                        customer_id  article_id  \\\n",
       "0 2018-09-20  000058a12d5b43e67d225668fa1f8d618c13dc232df0ca...   663713001   \n",
       "1 2018-09-20  000058a12d5b43e67d225668fa1f8d618c13dc232df0ca...   541518023   \n",
       "\n",
       "      price  sales_channel_id  product_code                 prod_name  \\\n",
       "0  0.050831                 2        663713  Atlanta Push Body Harlow   \n",
       "1  0.030492                 2        541518   Rae Push (Melbourne) 2p   \n",
       "\n",
       "   product_type_no product_type_name product_group_name  ...  \\\n",
       "0              283    Underwear body          Underwear  ...   \n",
       "1              306               Bra          Underwear  ...   \n",
       "\n",
       "       department_name index_code        index_name index_group_no  \\\n",
       "0  Expressive Lingerie          B  Lingeries/Tights              1   \n",
       "1      Casual Lingerie          B  Lingeries/Tights              1   \n",
       "\n",
       "   index_group_name section_no     section_name garment_group_no  \\\n",
       "0        Ladieswear         61  Womens Lingerie             1017   \n",
       "1        Ladieswear         61  Womens Lingerie             1017   \n",
       "\n",
       "   garment_group_name                                        detail_desc  \n",
       "0   Under-, Nightwear  Lace push-up body with underwired, moulded, pa...  \n",
       "1   Under-, Nightwear  Lace push-up bras with underwired, moulded, pa...  \n",
       "\n",
       "[2 rows x 29 columns]"
      ]
     },
     "execution_count": 18,
     "metadata": {},
     "output_type": "execute_result"
    }
   ],
   "source": [
    "newdf.head(2)"
   ]
  },
  {
   "cell_type": "markdown",
   "id": "2168d0c8",
   "metadata": {},
   "source": [
    "And finaly join the customer data frame to dataframe"
   ]
  },
  {
   "cell_type": "code",
   "execution_count": 19,
   "id": "a34af639",
   "metadata": {},
   "outputs": [],
   "source": [
    "newdf=newdf.merge(df_cust,on='customer_id', how='left')"
   ]
  },
  {
   "cell_type": "code",
   "execution_count": 20,
   "id": "1cd2d6f5",
   "metadata": {},
   "outputs": [
    {
     "data": {
      "text/plain": [
       "array(['Underwear', 'Garment Upper body', 'Garment Lower body',\n",
       "       'Accessories', 'Socks & Tights', 'Shoes', 'Garment Full body',\n",
       "       'Nightwear', 'Swimwear', 'Underwear/nightwear', 'Cosmetic',\n",
       "       'Unknown', 'Items', 'Bags', 'Interior textile', 'Furniture',\n",
       "       'Garment and Shoe care', 'Stationery', 'Fun'], dtype=object)"
      ]
     },
     "execution_count": 20,
     "metadata": {},
     "output_type": "execute_result"
    }
   ],
   "source": [
    "#product categories \n",
    "newdf.product_group_name.unique()"
   ]
  },
  {
   "cell_type": "markdown",
   "id": "ad95c98b",
   "metadata": {},
   "source": [
    "The data frame is final 'joined' dataframe."
   ]
  },
  {
   "cell_type": "markdown",
   "id": "19107b35",
   "metadata": {},
   "source": [
    "\n",
    "The variable 'index_group_name' can be a proxy for sex."
   ]
  },
  {
   "cell_type": "code",
   "execution_count": 21,
   "id": "a2972094",
   "metadata": {},
   "outputs": [
    {
     "data": {
      "text/plain": [
       "Ladieswear       20415260\n",
       "Divided           7138254\n",
       "Menswear          1771053\n",
       "Sport             1246408\n",
       "Baby/Children     1217349\n",
       "Name: index_group_name, dtype: int64"
      ]
     },
     "execution_count": 21,
     "metadata": {},
     "output_type": "execute_result"
    }
   ],
   "source": [
    "newdf.index_group_name.value_counts()"
   ]
  },
  {
   "cell_type": "markdown",
   "id": "5a33503e",
   "metadata": {},
   "source": [
    "Add agegroup variable to the dataframe derived from the age. "
   ]
  },
  {
   "cell_type": "code",
   "execution_count": 22,
   "id": "9fcff55c",
   "metadata": {},
   "outputs": [],
   "source": [
    "bins= [0,10,20,30,40,50,60,70,80,90,100]\n",
    "#labels = ['Teen','Young Adult', 'Adult']\n",
    "newdf['AgeGroup'] = pd.cut(newdf['age'], bins=bins, right=True)\n"
   ]
  },
  {
   "cell_type": "code",
   "execution_count": 23,
   "id": "9cf3861c",
   "metadata": {},
   "outputs": [],
   "source": [
    "\n",
    "ag = newdf.groupby('index_group_name').AgeGroup.value_counts().sort_index()"
   ]
  },
  {
   "cell_type": "code",
   "execution_count": 24,
   "id": "773f530c",
   "metadata": {},
   "outputs": [
    {
     "data": {
      "text/html": [
       "<div>\n",
       "<style scoped>\n",
       "    .dataframe tbody tr th:only-of-type {\n",
       "        vertical-align: middle;\n",
       "    }\n",
       "\n",
       "    .dataframe tbody tr th {\n",
       "        vertical-align: top;\n",
       "    }\n",
       "\n",
       "    .dataframe thead th {\n",
       "        text-align: right;\n",
       "    }\n",
       "</style>\n",
       "<table border=\"1\" class=\"dataframe\">\n",
       "  <thead>\n",
       "    <tr style=\"text-align: right;\">\n",
       "      <th>AgeGroup</th>\n",
       "      <th>(0, 10]</th>\n",
       "      <th>(10, 20]</th>\n",
       "      <th>(20, 30]</th>\n",
       "      <th>(30, 40]</th>\n",
       "      <th>(40, 50]</th>\n",
       "      <th>(50, 60]</th>\n",
       "      <th>(60, 70]</th>\n",
       "      <th>(70, 80]</th>\n",
       "      <th>(80, 90]</th>\n",
       "      <th>(90, 100]</th>\n",
       "    </tr>\n",
       "    <tr>\n",
       "      <th>index_group_name</th>\n",
       "      <th></th>\n",
       "      <th></th>\n",
       "      <th></th>\n",
       "      <th></th>\n",
       "      <th></th>\n",
       "      <th></th>\n",
       "      <th></th>\n",
       "      <th></th>\n",
       "      <th></th>\n",
       "      <th></th>\n",
       "    </tr>\n",
       "  </thead>\n",
       "  <tbody>\n",
       "    <tr>\n",
       "      <th>Baby/Children</th>\n",
       "      <td>0</td>\n",
       "      <td>20698</td>\n",
       "      <td>213336</td>\n",
       "      <td>378524</td>\n",
       "      <td>432052</td>\n",
       "      <td>124946</td>\n",
       "      <td>31381</td>\n",
       "      <td>5490</td>\n",
       "      <td>397</td>\n",
       "      <td>9</td>\n",
       "    </tr>\n",
       "    <tr>\n",
       "      <th>Divided</th>\n",
       "      <td>0</td>\n",
       "      <td>499284</td>\n",
       "      <td>3302778</td>\n",
       "      <td>1089523</td>\n",
       "      <td>1119271</td>\n",
       "      <td>907514</td>\n",
       "      <td>163792</td>\n",
       "      <td>24494</td>\n",
       "      <td>2043</td>\n",
       "      <td>254</td>\n",
       "    </tr>\n",
       "    <tr>\n",
       "      <th>Ladieswear</th>\n",
       "      <td>0</td>\n",
       "      <td>839648</td>\n",
       "      <td>8716621</td>\n",
       "      <td>3657362</td>\n",
       "      <td>3132015</td>\n",
       "      <td>3122457</td>\n",
       "      <td>727597</td>\n",
       "      <td>124593</td>\n",
       "      <td>7909</td>\n",
       "      <td>847</td>\n",
       "    </tr>\n",
       "    <tr>\n",
       "      <th>Menswear</th>\n",
       "      <td>0</td>\n",
       "      <td>70808</td>\n",
       "      <td>666335</td>\n",
       "      <td>264962</td>\n",
       "      <td>334316</td>\n",
       "      <td>353188</td>\n",
       "      <td>64148</td>\n",
       "      <td>8304</td>\n",
       "      <td>518</td>\n",
       "      <td>63</td>\n",
       "    </tr>\n",
       "    <tr>\n",
       "      <th>Sport</th>\n",
       "      <td>0</td>\n",
       "      <td>41715</td>\n",
       "      <td>562056</td>\n",
       "      <td>238828</td>\n",
       "      <td>197483</td>\n",
       "      <td>171928</td>\n",
       "      <td>25804</td>\n",
       "      <td>2552</td>\n",
       "      <td>174</td>\n",
       "      <td>49</td>\n",
       "    </tr>\n",
       "  </tbody>\n",
       "</table>\n",
       "</div>"
      ],
      "text/plain": [
       "AgeGroup          (0, 10]  (10, 20]  (20, 30]  (30, 40]  (40, 50]  (50, 60]  \\\n",
       "index_group_name                                                              \n",
       "Baby/Children           0     20698    213336    378524    432052    124946   \n",
       "Divided                 0    499284   3302778   1089523   1119271    907514   \n",
       "Ladieswear              0    839648   8716621   3657362   3132015   3122457   \n",
       "Menswear                0     70808    666335    264962    334316    353188   \n",
       "Sport                   0     41715    562056    238828    197483    171928   \n",
       "\n",
       "AgeGroup          (60, 70]  (70, 80]  (80, 90]  (90, 100]  \n",
       "index_group_name                                           \n",
       "Baby/Children        31381      5490       397          9  \n",
       "Divided             163792     24494      2043        254  \n",
       "Ladieswear          727597    124593      7909        847  \n",
       "Menswear             64148      8304       518         63  \n",
       "Sport                25804      2552       174         49  "
      ]
     },
     "execution_count": 24,
     "metadata": {},
     "output_type": "execute_result"
    }
   ],
   "source": [
    "ag.unstack()"
   ]
  },
  {
   "cell_type": "markdown",
   "id": "aa7dcd81",
   "metadata": {},
   "source": [
    "Final dimensions of the data file "
   ]
  },
  {
   "cell_type": "code",
   "execution_count": 25,
   "id": "a16faf28",
   "metadata": {},
   "outputs": [
    {
     "data": {
      "text/plain": [
       "(31788324, 36)"
      ]
     },
     "execution_count": 25,
     "metadata": {},
     "output_type": "execute_result"
    }
   ],
   "source": [
    "newdf.shape"
   ]
  },
  {
   "cell_type": "code",
   "execution_count": 26,
   "id": "ee77d9d2",
   "metadata": {},
   "outputs": [],
   "source": [
    "#newdf.dtypes"
   ]
  },
  {
   "cell_type": "code",
   "execution_count": 27,
   "id": "fcc3a3bb",
   "metadata": {},
   "outputs": [
    {
     "data": {
      "text/plain": [
       "45508"
      ]
     },
     "execution_count": 27,
     "metadata": {},
     "output_type": "execute_result"
    }
   ],
   "source": [
    "len(newdf.prod_name.unique())"
   ]
  },
  {
   "cell_type": "markdown",
   "id": "5dc5bf2e",
   "metadata": {},
   "source": [
    "# Top Selling products"
   ]
  },
  {
   "cell_type": "markdown",
   "id": "b865efce",
   "metadata": {},
   "source": [
    "The most top ranking purchased products "
   ]
  },
  {
   "cell_type": "code",
   "execution_count": 28,
   "id": "c682f460",
   "metadata": {},
   "outputs": [],
   "source": [
    "topprod=newdf.product_type_name.value_counts()"
   ]
  },
  {
   "cell_type": "code",
   "execution_count": 29,
   "id": "377351df",
   "metadata": {},
   "outputs": [
    {
     "data": {
      "text/plain": [
       "Trousers      4217017\n",
       "Dress         3238428\n",
       "Sweater       2783274\n",
       "T-shirt       2203750\n",
       "Top           1583408\n",
       "Blouse        1504868\n",
       "Vest top      1414101\n",
       "Bra           1335233\n",
       "Shorts        1152513\n",
       "Bikini top    1126202\n",
       "Name: product_type_name, dtype: int64"
      ]
     },
     "execution_count": 29,
     "metadata": {},
     "output_type": "execute_result"
    }
   ],
   "source": [
    "topprod.head(10)"
   ]
  },
  {
   "cell_type": "code",
   "execution_count": 30,
   "id": "09cb89be",
   "metadata": {},
   "outputs": [],
   "source": [
    "\n",
    "\n",
    "def topselling(top):\n",
    "    dftop = topprod.head(top)\n",
    "    return dftop.plot.bar(dftop,title='Top selling products')\n",
    "\n",
    "#fig = go.Figure(data=[go.Histogram(y=y)])\n",
    "#fig.show()"
   ]
  },
  {
   "cell_type": "code",
   "execution_count": 31,
   "id": "10d0b334",
   "metadata": {},
   "outputs": [
    {
     "data": {
      "text/plain": [
       "<AxesSubplot:title={'center':'Top selling products'}>"
      ]
     },
     "execution_count": 31,
     "metadata": {},
     "output_type": "execute_result"
    },
    {
     "data": {
      "image/png": "[encoded data removed]",
      "text/plain": [
       "<Figure size 640x480 with 1 Axes>"
      ]
     },
     "metadata": {},
     "output_type": "display_data"
    }
   ],
   "source": [
    "topselling(20)"
   ]
  },
  {
   "cell_type": "markdown",
   "id": "b76fe685",
   "metadata": {},
   "source": [
    "# Purchases over Time"
   ]
  },
  {
   "cell_type": "code",
   "execution_count": 34,
   "id": "1e914bcf",
   "metadata": {},
   "outputs": [],
   "source": [
    "def product_time(prod='Trousers'):\n",
    "    mask=newdf.product_type_name==prod\n",
    "    prod_time=newdf[mask]\n",
    "    df1 = prod_time.groupby(prod_time['t_dat']).size().reset_index(name='Count')\n",
    "    return sns.scatterplot(data=df1, x=\"t_dat\", y=\"Count\").set_title('Number of Purchases of Product over time span')"
   ]
  },
  {
   "cell_type": "code",
   "execution_count": 35,
   "id": "4e7c2272",
   "metadata": {},
   "outputs": [
    {
     "data": {
      "text/plain": [
       "Text(0.5, 1.0, 'Number of Purchases of Product over time span')"
      ]
     },
     "execution_count": 35,
     "metadata": {},
     "output_type": "execute_result"
    },
    {
     "data": {
      "image/png": "[encoded data removed]",
      "text/plain": [
       "<Figure size 640x480 with 1 Axes>"
      ]
     },
     "metadata": {},
     "output_type": "display_data"
    }
   ],
   "source": [
    "# T-shirt and Swimsuit Jacket Shorts\n",
    "product_time('T-shirt')"
   ]
  },
  {
   "cell_type": "markdown",
   "id": "6cdbd8a4",
   "metadata": {},
   "source": [
    "# Correlation"
   ]
  },
  {
   "cell_type": "code",
   "execution_count": 36,
   "id": "75984f61",
   "metadata": {},
   "outputs": [],
   "source": [
    "def prod_corr(topXprods=10):\n",
    "    topprod=newdf.product_type_name.value_counts()\n",
    "    list_topX=topprod.head(topXprods)\n",
    "    t=newdf[newdf.product_type_name.isin(list_topX.index)]\n",
    "    t_new=t[['t_dat','product_type_name']]\n",
    "    y=t_new.groupby(['t_dat','product_type_name']).size().reset_index(name='Count')\n",
    "    y_new=y.pivot_table(columns=['product_type_name'],index='t_dat', values='Count')\n",
    "    #fig = px.imshow(y_new.corr(),title='Correlation Between Products')\n",
    "    ax = plt.axes()\n",
    "    ax.set_title('Correlation Between Products')\n",
    "    return sns.heatmap(y_new.corr())"
   ]
  },
  {
   "cell_type": "code",
   "execution_count": 37,
   "id": "d1e12f89",
   "metadata": {},
   "outputs": [
    {
     "data": {
      "text/plain": [
       "<AxesSubplot:title={'center':'Correlation Between Products'}, xlabel='product_type_name', ylabel='product_type_name'>"
      ]
     },
     "execution_count": 37,
     "metadata": {},
     "output_type": "execute_result"
    },
    {
     "data": {
      "image/png": "[encoded data removed]",
      "text/plain": [
       "<Figure size 640x480 with 2 Axes>"
      ]
     },
     "metadata": {},
     "output_type": "display_data"
    }
   ],
   "source": [
    "prod_corr(20)"
   ]
  },
  {
   "cell_type": "markdown",
   "id": "126520db",
   "metadata": {},
   "source": [
    "# Complexity of Apriori Method"
   ]
  },
  {
   "cell_type": "markdown",
   "id": "bcf368b5",
   "metadata": {},
   "source": [
    "On page 215 and 216 in the textbook it is shown how we can calculate the memory requirement.\n",
    "The number of rows in purchases_list is :\n",
    "\n",
    "$$len(purchases\\_list)=9.080.179 \\hspace{0.5cm} baskets $$\n",
    "\n",
    "We can calculate the number of unique items in our dataset:\n",
    "\n",
    "$$ len(testnew.prod\\_name.unique())=5.424.262 $$\n",
    "\n",
    "Note testnew is my input to purchases_list so it must be same number items in purchases_list.\n",
    "\n",
    "The number of pairs as:\n",
    "\n",
    "$$\\binom{5.424.262}{ 2}$$\n",
    "\n",
    "This is approximately \n",
    "\n",
    "$$\\frac{5.424.262^2}{2}=  1,47E+13 \\hspace{0.5cm } store\\hspace{0.1cm} space. $$\n",
    "\n",
    "If integers take 4 bytes then it requires $2 \\cdot items^2$ bytes.\n",
    "\n",
    "This gives $2\\cdot 5.424.262^2=5,88E+13$ bytes and equivalent to 58.845 Gigabytes. This figure should then be multiplied by number of baskets. \n",
    "\n",
    "The big O complexity of the Apriori method is $O(2^D)$ - which is exponential. "
   ]
  },
  {
   "cell_type": "markdown",
   "id": "d196e859",
   "metadata": {},
   "source": [
    "# Aprori Analysis"
   ]
  },
  {
   "cell_type": "markdown",
   "id": "5e3839d0",
   "metadata": {},
   "source": [
    "Only use variables t_dat, customer_id, prod_name and age. For use in aprori analysis below."
   ]
  },
  {
   "cell_type": "code",
   "execution_count": 36,
   "id": "ab759f82",
   "metadata": {},
   "outputs": [],
   "source": [
    "select_newdf=newdf[['t_dat','customer_id','prod_name','age']]"
   ]
  },
  {
   "cell_type": "code",
   "execution_count": 37,
   "id": "fef84881",
   "metadata": {},
   "outputs": [
    {
     "data": {
      "text/html": [
       "<div>\n",
       "<style scoped>\n",
       "    .dataframe tbody tr th:only-of-type {\n",
       "        vertical-align: middle;\n",
       "    }\n",
       "\n",
       "    .dataframe tbody tr th {\n",
       "        vertical-align: top;\n",
       "    }\n",
       "\n",
       "    .dataframe thead th {\n",
       "        text-align: right;\n",
       "    }\n",
       "</style>\n",
       "<table border=\"1\" class=\"dataframe\">\n",
       "  <thead>\n",
       "    <tr style=\"text-align: right;\">\n",
       "      <th></th>\n",
       "      <th>t_dat</th>\n",
       "      <th>customer_id</th>\n",
       "      <th>prod_name</th>\n",
       "      <th>age</th>\n",
       "    </tr>\n",
       "  </thead>\n",
       "  <tbody>\n",
       "    <tr>\n",
       "      <th>0</th>\n",
       "      <td>2018-09-20</td>\n",
       "      <td>000058a12d5b43e67d225668fa1f8d618c13dc232df0ca...</td>\n",
       "      <td>Atlanta Push Body Harlow</td>\n",
       "      <td>24.0</td>\n",
       "    </tr>\n",
       "    <tr>\n",
       "      <th>1</th>\n",
       "      <td>2018-09-20</td>\n",
       "      <td>000058a12d5b43e67d225668fa1f8d618c13dc232df0ca...</td>\n",
       "      <td>Rae Push (Melbourne) 2p</td>\n",
       "      <td>24.0</td>\n",
       "    </tr>\n",
       "    <tr>\n",
       "      <th>2</th>\n",
       "      <td>2018-09-20</td>\n",
       "      <td>00007d2de826758b65a93dd24ce629ed66842531df6699...</td>\n",
       "      <td>Inca Jumper</td>\n",
       "      <td>32.0</td>\n",
       "    </tr>\n",
       "    <tr>\n",
       "      <th>3</th>\n",
       "      <td>2018-09-20</td>\n",
       "      <td>00007d2de826758b65a93dd24ce629ed66842531df6699...</td>\n",
       "      <td>W YODA KNIT OL OFFER</td>\n",
       "      <td>32.0</td>\n",
       "    </tr>\n",
       "    <tr>\n",
       "      <th>4</th>\n",
       "      <td>2018-09-20</td>\n",
       "      <td>00007d2de826758b65a93dd24ce629ed66842531df6699...</td>\n",
       "      <td>W YODA KNIT OL OFFER</td>\n",
       "      <td>32.0</td>\n",
       "    </tr>\n",
       "    <tr>\n",
       "      <th>5</th>\n",
       "      <td>2018-09-20</td>\n",
       "      <td>00007d2de826758b65a93dd24ce629ed66842531df6699...</td>\n",
       "      <td>W YODA KNIT OL OFFER</td>\n",
       "      <td>32.0</td>\n",
       "    </tr>\n",
       "    <tr>\n",
       "      <th>6</th>\n",
       "      <td>2018-09-20</td>\n",
       "      <td>00007d2de826758b65a93dd24ce629ed66842531df6699...</td>\n",
       "      <td>Inca jumper</td>\n",
       "      <td>32.0</td>\n",
       "    </tr>\n",
       "    <tr>\n",
       "      <th>7</th>\n",
       "      <td>2018-09-20</td>\n",
       "      <td>00083cda041544b2fbb0e0d2905ad17da7cf1007526fb4...</td>\n",
       "      <td>Gyda!</td>\n",
       "      <td>29.0</td>\n",
       "    </tr>\n",
       "    <tr>\n",
       "      <th>8</th>\n",
       "      <td>2018-09-20</td>\n",
       "      <td>00083cda041544b2fbb0e0d2905ad17da7cf1007526fb4...</td>\n",
       "      <td>Thomas paperbag wide</td>\n",
       "      <td>29.0</td>\n",
       "    </tr>\n",
       "    <tr>\n",
       "      <th>9</th>\n",
       "      <td>2018-09-20</td>\n",
       "      <td>00083cda041544b2fbb0e0d2905ad17da7cf1007526fb4...</td>\n",
       "      <td>Fiona Wide</td>\n",
       "      <td>29.0</td>\n",
       "    </tr>\n",
       "  </tbody>\n",
       "</table>\n",
       "</div>"
      ],
      "text/plain": [
       "       t_dat                                        customer_id  \\\n",
       "0 2018-09-20  000058a12d5b43e67d225668fa1f8d618c13dc232df0ca...   \n",
       "1 2018-09-20  000058a12d5b43e67d225668fa1f8d618c13dc232df0ca...   \n",
       "2 2018-09-20  00007d2de826758b65a93dd24ce629ed66842531df6699...   \n",
       "3 2018-09-20  00007d2de826758b65a93dd24ce629ed66842531df6699...   \n",
       "4 2018-09-20  00007d2de826758b65a93dd24ce629ed66842531df6699...   \n",
       "5 2018-09-20  00007d2de826758b65a93dd24ce629ed66842531df6699...   \n",
       "6 2018-09-20  00007d2de826758b65a93dd24ce629ed66842531df6699...   \n",
       "7 2018-09-20  00083cda041544b2fbb0e0d2905ad17da7cf1007526fb4...   \n",
       "8 2018-09-20  00083cda041544b2fbb0e0d2905ad17da7cf1007526fb4...   \n",
       "9 2018-09-20  00083cda041544b2fbb0e0d2905ad17da7cf1007526fb4...   \n",
       "\n",
       "                  prod_name   age  \n",
       "0  Atlanta Push Body Harlow  24.0  \n",
       "1   Rae Push (Melbourne) 2p  24.0  \n",
       "2               Inca Jumper  32.0  \n",
       "3      W YODA KNIT OL OFFER  32.0  \n",
       "4      W YODA KNIT OL OFFER  32.0  \n",
       "5      W YODA KNIT OL OFFER  32.0  \n",
       "6               Inca jumper  32.0  \n",
       "7                     Gyda!  29.0  \n",
       "8      Thomas paperbag wide  29.0  \n",
       "9                Fiona Wide  29.0  "
      ]
     },
     "execution_count": 37,
     "metadata": {},
     "output_type": "execute_result"
    }
   ],
   "source": [
    "select_newdf.head(10)"
   ]
  },
  {
   "cell_type": "code",
   "execution_count": 38,
   "id": "5d3fa585",
   "metadata": {},
   "outputs": [],
   "source": [
    "test = select_newdf.groupby(['customer_id', 't_dat','age'])['prod_name'].apply(lambda x: ','.join(x.astype(str))).reset_index() "
   ]
  },
  {
   "cell_type": "code",
   "execution_count": 39,
   "id": "1ed43822",
   "metadata": {},
   "outputs": [],
   "source": [
    "testnew=pd.DataFrame(test)"
   ]
  },
  {
   "cell_type": "code",
   "execution_count": 40,
   "id": "c8e3f7fc",
   "metadata": {},
   "outputs": [
    {
     "data": {
      "text/html": [
       "<div>\n",
       "<style scoped>\n",
       "    .dataframe tbody tr th:only-of-type {\n",
       "        vertical-align: middle;\n",
       "    }\n",
       "\n",
       "    .dataframe tbody tr th {\n",
       "        vertical-align: top;\n",
       "    }\n",
       "\n",
       "    .dataframe thead th {\n",
       "        text-align: right;\n",
       "    }\n",
       "</style>\n",
       "<table border=\"1\" class=\"dataframe\">\n",
       "  <thead>\n",
       "    <tr style=\"text-align: right;\">\n",
       "      <th></th>\n",
       "      <th>customer_id</th>\n",
       "      <th>t_dat</th>\n",
       "      <th>age</th>\n",
       "      <th>prod_name</th>\n",
       "    </tr>\n",
       "  </thead>\n",
       "  <tbody>\n",
       "    <tr>\n",
       "      <th>0</th>\n",
       "      <td>00000dbacae5abe5e23885899a1fa44253a17956c6d1c3...</td>\n",
       "      <td>2018-12-27</td>\n",
       "      <td>49.0</td>\n",
       "      <td>BB Chris puff jkt TP,Mr Harrington w/hood,FLOR...</td>\n",
       "    </tr>\n",
       "    <tr>\n",
       "      <th>1</th>\n",
       "      <td>00000dbacae5abe5e23885899a1fa44253a17956c6d1c3...</td>\n",
       "      <td>2019-05-02</td>\n",
       "      <td>49.0</td>\n",
       "      <td>Sophie jumpsuit</td>\n",
       "    </tr>\n",
       "    <tr>\n",
       "      <th>2</th>\n",
       "      <td>00000dbacae5abe5e23885899a1fa44253a17956c6d1c3...</td>\n",
       "      <td>2019-05-25</td>\n",
       "      <td>49.0</td>\n",
       "      <td>Mariette Blazer,Mariette Blazer</td>\n",
       "    </tr>\n",
       "    <tr>\n",
       "      <th>3</th>\n",
       "      <td>00000dbacae5abe5e23885899a1fa44253a17956c6d1c3...</td>\n",
       "      <td>2019-07-25</td>\n",
       "      <td>49.0</td>\n",
       "      <td>The Firm (1),Skirt Mini Stretch Edie</td>\n",
       "    </tr>\n",
       "    <tr>\n",
       "      <th>4</th>\n",
       "      <td>00000dbacae5abe5e23885899a1fa44253a17956c6d1c3...</td>\n",
       "      <td>2019-09-18</td>\n",
       "      <td>49.0</td>\n",
       "      <td>Serpente HW slim trouser</td>\n",
       "    </tr>\n",
       "  </tbody>\n",
       "</table>\n",
       "</div>"
      ],
      "text/plain": [
       "                                         customer_id      t_dat   age  \\\n",
       "0  00000dbacae5abe5e23885899a1fa44253a17956c6d1c3... 2018-12-27  49.0   \n",
       "1  00000dbacae5abe5e23885899a1fa44253a17956c6d1c3... 2019-05-02  49.0   \n",
       "2  00000dbacae5abe5e23885899a1fa44253a17956c6d1c3... 2019-05-25  49.0   \n",
       "3  00000dbacae5abe5e23885899a1fa44253a17956c6d1c3... 2019-07-25  49.0   \n",
       "4  00000dbacae5abe5e23885899a1fa44253a17956c6d1c3... 2019-09-18  49.0   \n",
       "\n",
       "                                           prod_name  \n",
       "0  BB Chris puff jkt TP,Mr Harrington w/hood,FLOR...  \n",
       "1                                    Sophie jumpsuit  \n",
       "2                    Mariette Blazer,Mariette Blazer  \n",
       "3               The Firm (1),Skirt Mini Stretch Edie  \n",
       "4                           Serpente HW slim trouser  "
      ]
     },
     "execution_count": 40,
     "metadata": {},
     "output_type": "execute_result"
    }
   ],
   "source": [
    "testnew.head()"
   ]
  },
  {
   "cell_type": "code",
   "execution_count": 41,
   "id": "694479a8",
   "metadata": {},
   "outputs": [
    {
     "data": {
      "text/plain": [
       "9033718"
      ]
     },
     "execution_count": 41,
     "metadata": {},
     "output_type": "execute_result"
    }
   ],
   "source": [
    "len(testnew)"
   ]
  },
  {
   "cell_type": "code",
   "execution_count": 42,
   "id": "45990df2",
   "metadata": {},
   "outputs": [],
   "source": [
    "age20_30=testnew[(testnew.age>=20) & (testnew.age<=30)]"
   ]
  },
  {
   "cell_type": "code",
   "execution_count": 120,
   "id": "0404bec8",
   "metadata": {},
   "outputs": [],
   "source": [
    "age30_40=testnew[(testnew.age>=30) & (testnew.age<=40)]"
   ]
  },
  {
   "cell_type": "code",
   "execution_count": 43,
   "id": "c8de1b9c",
   "metadata": {},
   "outputs": [
    {
     "data": {
      "text/html": [
       "<div>\n",
       "<style scoped>\n",
       "    .dataframe tbody tr th:only-of-type {\n",
       "        vertical-align: middle;\n",
       "    }\n",
       "\n",
       "    .dataframe tbody tr th {\n",
       "        vertical-align: top;\n",
       "    }\n",
       "\n",
       "    .dataframe thead th {\n",
       "        text-align: right;\n",
       "    }\n",
       "</style>\n",
       "<table border=\"1\" class=\"dataframe\">\n",
       "  <thead>\n",
       "    <tr style=\"text-align: right;\">\n",
       "      <th></th>\n",
       "      <th>customer_id</th>\n",
       "      <th>t_dat</th>\n",
       "      <th>age</th>\n",
       "      <th>prod_name</th>\n",
       "    </tr>\n",
       "  </thead>\n",
       "  <tbody>\n",
       "    <tr>\n",
       "      <th>10</th>\n",
       "      <td>0000423b00ade91418cceaf3b26c6af3dd342b51fd051e...</td>\n",
       "      <td>2018-09-21</td>\n",
       "      <td>25.0</td>\n",
       "      <td>Noel denim dress,Portofino ISW 28,CORY CORD SKIRT</td>\n",
       "    </tr>\n",
       "    <tr>\n",
       "      <th>11</th>\n",
       "      <td>0000423b00ade91418cceaf3b26c6af3dd342b51fd051e...</td>\n",
       "      <td>2018-09-25</td>\n",
       "      <td>25.0</td>\n",
       "      <td>Sirpa mockneck,Janet sweater</td>\n",
       "    </tr>\n",
       "    <tr>\n",
       "      <th>12</th>\n",
       "      <td>0000423b00ade91418cceaf3b26c6af3dd342b51fd051e...</td>\n",
       "      <td>2018-09-27</td>\n",
       "      <td>25.0</td>\n",
       "      <td>Noel denim dress,Henry polo. (1)</td>\n",
       "    </tr>\n",
       "    <tr>\n",
       "      <th>13</th>\n",
       "      <td>0000423b00ade91418cceaf3b26c6af3dd342b51fd051e...</td>\n",
       "      <td>2018-09-29</td>\n",
       "      <td>25.0</td>\n",
       "      <td>Janet sweater</td>\n",
       "    </tr>\n",
       "    <tr>\n",
       "      <th>14</th>\n",
       "      <td>0000423b00ade91418cceaf3b26c6af3dd342b51fd051e...</td>\n",
       "      <td>2019-01-10</td>\n",
       "      <td>25.0</td>\n",
       "      <td>Thelma poloneck</td>\n",
       "    </tr>\n",
       "  </tbody>\n",
       "</table>\n",
       "</div>"
      ],
      "text/plain": [
       "                                          customer_id      t_dat   age  \\\n",
       "10  0000423b00ade91418cceaf3b26c6af3dd342b51fd051e... 2018-09-21  25.0   \n",
       "11  0000423b00ade91418cceaf3b26c6af3dd342b51fd051e... 2018-09-25  25.0   \n",
       "12  0000423b00ade91418cceaf3b26c6af3dd342b51fd051e... 2018-09-27  25.0   \n",
       "13  0000423b00ade91418cceaf3b26c6af3dd342b51fd051e... 2018-09-29  25.0   \n",
       "14  0000423b00ade91418cceaf3b26c6af3dd342b51fd051e... 2019-01-10  25.0   \n",
       "\n",
       "                                            prod_name  \n",
       "10  Noel denim dress,Portofino ISW 28,CORY CORD SKIRT  \n",
       "11                       Sirpa mockneck,Janet sweater  \n",
       "12                   Noel denim dress,Henry polo. (1)  \n",
       "13                                      Janet sweater  \n",
       "14                                    Thelma poloneck  "
      ]
     },
     "execution_count": 43,
     "metadata": {},
     "output_type": "execute_result"
    }
   ],
   "source": [
    "age20_30.head()"
   ]
  },
  {
   "cell_type": "markdown",
   "id": "6a73a3ee",
   "metadata": {},
   "source": [
    "Number of customers betweeen age 20-30:"
   ]
  },
  {
   "cell_type": "code",
   "execution_count": 44,
   "id": "1a5b74cf",
   "metadata": {},
   "outputs": [
    {
     "data": {
      "text/plain": [
       "4019286"
      ]
     },
     "execution_count": 44,
     "metadata": {},
     "output_type": "execute_result"
    }
   ],
   "source": [
    "len(age20_30)"
   ]
  },
  {
   "cell_type": "code",
   "execution_count": 45,
   "id": "048d2718",
   "metadata": {},
   "outputs": [],
   "source": [
    "#Function to sample frac% of customers\n",
    "\n",
    "def sample_cust(data, frac):\n",
    "    b=data.customer_id.sample(frac=frac)\n",
    "    return data.loc[b.index]"
   ]
  },
  {
   "cell_type": "code",
   "execution_count": 80,
   "id": "49805533",
   "metadata": {},
   "outputs": [],
   "source": [
    "o=sample_cust(age20_30,0.03)"
   ]
  },
  {
   "cell_type": "code",
   "execution_count": 121,
   "id": "489442ba",
   "metadata": {},
   "outputs": [],
   "source": [
    "o30_40=sample_cust(age30_40,0.03)"
   ]
  },
  {
   "cell_type": "code",
   "execution_count": 122,
   "id": "e271cb28",
   "metadata": {},
   "outputs": [
    {
     "data": {
      "text/plain": [
       "49883"
      ]
     },
     "execution_count": 122,
     "metadata": {},
     "output_type": "execute_result"
    }
   ],
   "source": [
    "len(o30_40)"
   ]
  },
  {
   "cell_type": "markdown",
   "id": "e25ce4af",
   "metadata": {},
   "source": [
    "This is the number of unique customers: "
   ]
  },
  {
   "cell_type": "code",
   "execution_count": 81,
   "id": "bb807faf",
   "metadata": {},
   "outputs": [
    {
     "data": {
      "text/plain": [
       "120579"
      ]
     },
     "execution_count": 81,
     "metadata": {},
     "output_type": "execute_result"
    }
   ],
   "source": [
    "len(o)"
   ]
  },
  {
   "cell_type": "markdown",
   "id": "85d26fc5",
   "metadata": {},
   "source": [
    "This is the number of unique items in the frac% customer sample:"
   ]
  },
  {
   "cell_type": "code",
   "execution_count": 82,
   "id": "e2fb3730",
   "metadata": {},
   "outputs": [
    {
     "data": {
      "text/plain": [
       "91743"
      ]
     },
     "execution_count": 82,
     "metadata": {},
     "output_type": "execute_result"
    }
   ],
   "source": [
    "len(o.prod_name.unique())"
   ]
  },
  {
   "cell_type": "code",
   "execution_count": 126,
   "id": "f3f16fd5",
   "metadata": {},
   "outputs": [],
   "source": [
    "# Only the basket\n",
    "#prods=o['prod_name']\n",
    "prods=o30_40['prod_name']"
   ]
  },
  {
   "cell_type": "code",
   "execution_count": 127,
   "id": "8c57d3a0",
   "metadata": {},
   "outputs": [],
   "source": [
    "art=prods.values.tolist()\n"
   ]
  },
  {
   "cell_type": "code",
   "execution_count": 128,
   "id": "792803b4",
   "metadata": {},
   "outputs": [
    {
     "data": {
      "text/plain": [
       "'Freddy,Fleece trs (J),Monaco'"
      ]
     },
     "execution_count": 128,
     "metadata": {},
     "output_type": "execute_result"
    }
   ],
   "source": [
    "art[0]"
   ]
  },
  {
   "cell_type": "markdown",
   "id": "b8bd9b27",
   "metadata": {},
   "source": [
    "The same function as Hannah"
   ]
  },
  {
   "cell_type": "code",
   "execution_count": 129,
   "id": "5cbf4e46",
   "metadata": {},
   "outputs": [],
   "source": [
    "purchases_list = [] \n",
    "\n",
    "for i in art:\n",
    "    #print(i)\n",
    "    purchases_list.append(i.split(\",\")) \n",
    "        "
   ]
  },
  {
   "cell_type": "code",
   "execution_count": 87,
   "id": "daee6937",
   "metadata": {},
   "outputs": [],
   "source": [
    "#count=[]\n",
    "#for j in range(len(purchases_list)):\n",
    "#    count.append(len(purchases_list[j]))"
   ]
  },
  {
   "cell_type": "code",
   "execution_count": 88,
   "id": "cbeabd9d",
   "metadata": {},
   "outputs": [],
   "source": [
    "#Export the purchases_list to csv file\n",
    "\n",
    "fields = ['BasketNew']\n",
    "with open('o', 'w') as f:\n",
    "      \n",
    "    # using csv.writer method from CSV package\n",
    "    write = csv.writer(f)\n",
    "      \n",
    "    write.writerow(fields)\n",
    "    write.writerows(purchases_list)"
   ]
  },
  {
   "cell_type": "code",
   "execution_count": 130,
   "id": "631a78b9",
   "metadata": {},
   "outputs": [],
   "source": [
    "#Sparse=True go in fit \n",
    "te = TransactionEncoder()\n",
    "te_ary = te.fit(purchases_list).transform(purchases_list)\n",
    "df = pd.DataFrame(te_ary,columns=te.columns_)\n"
   ]
  },
  {
   "cell_type": "code",
   "execution_count": 131,
   "id": "37251ede",
   "metadata": {},
   "outputs": [
    {
     "data": {
      "text/html": [
       "<div>\n",
       "<style scoped>\n",
       "    .dataframe tbody tr th:only-of-type {\n",
       "        vertical-align: middle;\n",
       "    }\n",
       "\n",
       "    .dataframe tbody tr th {\n",
       "        vertical-align: top;\n",
       "    }\n",
       "\n",
       "    .dataframe thead th {\n",
       "        text-align: right;\n",
       "    }\n",
       "</style>\n",
       "<table border=\"1\" class=\"dataframe\">\n",
       "  <thead>\n",
       "    <tr style=\"text-align: right;\">\n",
       "      <th></th>\n",
       "      <th>&amp; Denim Boyfriend LW denim</th>\n",
       "      <th>&amp;DENIM Bootcut RW Speed</th>\n",
       "      <th>&amp;DENIM Bootcut RW soho</th>\n",
       "      <th>&amp;DENIM Boyfriend LW</th>\n",
       "      <th>&amp;DENIM Embrace denim shorts</th>\n",
       "      <th>&amp;DENIM Girlfriend</th>\n",
       "      <th>&amp;DENIM Girlfriend RW</th>\n",
       "      <th>&amp;DENIM Girlfriend TR</th>\n",
       "      <th>&amp;DENIM Jacket Daisy Garden</th>\n",
       "      <th>&amp;DENIM Jacket black jewel</th>\n",
       "      <th>...</th>\n",
       "      <th>victoria body</th>\n",
       "      <th>vivi velvet top</th>\n",
       "      <th>waikiki straw hat</th>\n",
       "      <th>wheeler jumpsuit</th>\n",
       "      <th>wheeler jumpsuit (1)</th>\n",
       "      <th>whisper shorts</th>\n",
       "      <th>windu cardigan</th>\n",
       "      <th>wow item BFF swettis</th>\n",
       "      <th>x-ray</th>\n",
       "      <th>zelda leggings</th>\n",
       "    </tr>\n",
       "  </thead>\n",
       "  <tbody>\n",
       "    <tr>\n",
       "      <th>0</th>\n",
       "      <td>False</td>\n",
       "      <td>False</td>\n",
       "      <td>False</td>\n",
       "      <td>False</td>\n",
       "      <td>False</td>\n",
       "      <td>False</td>\n",
       "      <td>False</td>\n",
       "      <td>False</td>\n",
       "      <td>False</td>\n",
       "      <td>False</td>\n",
       "      <td>...</td>\n",
       "      <td>False</td>\n",
       "      <td>False</td>\n",
       "      <td>False</td>\n",
       "      <td>False</td>\n",
       "      <td>False</td>\n",
       "      <td>False</td>\n",
       "      <td>False</td>\n",
       "      <td>False</td>\n",
       "      <td>False</td>\n",
       "      <td>False</td>\n",
       "    </tr>\n",
       "    <tr>\n",
       "      <th>1</th>\n",
       "      <td>False</td>\n",
       "      <td>False</td>\n",
       "      <td>False</td>\n",
       "      <td>False</td>\n",
       "      <td>False</td>\n",
       "      <td>False</td>\n",
       "      <td>False</td>\n",
       "      <td>False</td>\n",
       "      <td>False</td>\n",
       "      <td>False</td>\n",
       "      <td>...</td>\n",
       "      <td>False</td>\n",
       "      <td>False</td>\n",
       "      <td>False</td>\n",
       "      <td>False</td>\n",
       "      <td>False</td>\n",
       "      <td>False</td>\n",
       "      <td>False</td>\n",
       "      <td>False</td>\n",
       "      <td>False</td>\n",
       "      <td>False</td>\n",
       "    </tr>\n",
       "    <tr>\n",
       "      <th>2</th>\n",
       "      <td>False</td>\n",
       "      <td>False</td>\n",
       "      <td>False</td>\n",
       "      <td>False</td>\n",
       "      <td>False</td>\n",
       "      <td>False</td>\n",
       "      <td>False</td>\n",
       "      <td>False</td>\n",
       "      <td>False</td>\n",
       "      <td>False</td>\n",
       "      <td>...</td>\n",
       "      <td>False</td>\n",
       "      <td>False</td>\n",
       "      <td>False</td>\n",
       "      <td>False</td>\n",
       "      <td>False</td>\n",
       "      <td>False</td>\n",
       "      <td>False</td>\n",
       "      <td>False</td>\n",
       "      <td>False</td>\n",
       "      <td>False</td>\n",
       "    </tr>\n",
       "    <tr>\n",
       "      <th>3</th>\n",
       "      <td>False</td>\n",
       "      <td>False</td>\n",
       "      <td>False</td>\n",
       "      <td>False</td>\n",
       "      <td>False</td>\n",
       "      <td>False</td>\n",
       "      <td>False</td>\n",
       "      <td>False</td>\n",
       "      <td>False</td>\n",
       "      <td>False</td>\n",
       "      <td>...</td>\n",
       "      <td>False</td>\n",
       "      <td>False</td>\n",
       "      <td>False</td>\n",
       "      <td>False</td>\n",
       "      <td>False</td>\n",
       "      <td>False</td>\n",
       "      <td>False</td>\n",
       "      <td>False</td>\n",
       "      <td>False</td>\n",
       "      <td>False</td>\n",
       "    </tr>\n",
       "    <tr>\n",
       "      <th>4</th>\n",
       "      <td>False</td>\n",
       "      <td>False</td>\n",
       "      <td>False</td>\n",
       "      <td>False</td>\n",
       "      <td>False</td>\n",
       "      <td>False</td>\n",
       "      <td>False</td>\n",
       "      <td>False</td>\n",
       "      <td>False</td>\n",
       "      <td>False</td>\n",
       "      <td>...</td>\n",
       "      <td>False</td>\n",
       "      <td>False</td>\n",
       "      <td>False</td>\n",
       "      <td>False</td>\n",
       "      <td>False</td>\n",
       "      <td>False</td>\n",
       "      <td>False</td>\n",
       "      <td>False</td>\n",
       "      <td>False</td>\n",
       "      <td>False</td>\n",
       "    </tr>\n",
       "  </tbody>\n",
       "</table>\n",
       "<p>5 rows × 24237 columns</p>\n",
       "</div>"
      ],
      "text/plain": [
       "   & Denim Boyfriend LW denim  &DENIM Bootcut RW Speed  \\\n",
       "0                       False                    False   \n",
       "1                       False                    False   \n",
       "2                       False                    False   \n",
       "3                       False                    False   \n",
       "4                       False                    False   \n",
       "\n",
       "   &DENIM Bootcut RW soho  &DENIM Boyfriend LW  &DENIM Embrace denim shorts  \\\n",
       "0                   False                False                        False   \n",
       "1                   False                False                        False   \n",
       "2                   False                False                        False   \n",
       "3                   False                False                        False   \n",
       "4                   False                False                        False   \n",
       "\n",
       "   &DENIM Girlfriend  &DENIM Girlfriend RW  &DENIM Girlfriend TR  \\\n",
       "0              False                 False                 False   \n",
       "1              False                 False                 False   \n",
       "2              False                 False                 False   \n",
       "3              False                 False                 False   \n",
       "4              False                 False                 False   \n",
       "\n",
       "   &DENIM Jacket Daisy Garden  &DENIM Jacket black jewel  ...  victoria body  \\\n",
       "0                       False                      False  ...          False   \n",
       "1                       False                      False  ...          False   \n",
       "2                       False                      False  ...          False   \n",
       "3                       False                      False  ...          False   \n",
       "4                       False                      False  ...          False   \n",
       "\n",
       "   vivi velvet top  waikiki straw hat  wheeler jumpsuit  wheeler jumpsuit (1)  \\\n",
       "0            False              False             False                 False   \n",
       "1            False              False             False                 False   \n",
       "2            False              False             False                 False   \n",
       "3            False              False             False                 False   \n",
       "4            False              False             False                 False   \n",
       "\n",
       "   whisper shorts  windu cardigan  wow item BFF swettis  x-ray  zelda leggings  \n",
       "0           False           False                 False  False           False  \n",
       "1           False           False                 False  False           False  \n",
       "2           False           False                 False  False           False  \n",
       "3           False           False                 False  False           False  \n",
       "4           False           False                 False  False           False  \n",
       "\n",
       "[5 rows x 24237 columns]"
      ]
     },
     "execution_count": 131,
     "metadata": {},
     "output_type": "execute_result"
    }
   ],
   "source": [
    "df.head()\n"
   ]
  },
  {
   "cell_type": "markdown",
   "id": "ab9bc00f",
   "metadata": {},
   "source": [
    "The above dimsions have really confused me !!!! The rows does not fit....But look below."
   ]
  },
  {
   "cell_type": "code",
   "execution_count": 132,
   "id": "f2fa4040",
   "metadata": {},
   "outputs": [
    {
     "data": {
      "text/plain": [
       "(49883, 24237)"
      ]
     },
     "execution_count": 132,
     "metadata": {},
     "output_type": "execute_result"
    }
   ],
   "source": [
    "df.shape"
   ]
  },
  {
   "cell_type": "code",
   "execution_count": 108,
   "id": "392d7c5d",
   "metadata": {},
   "outputs": [],
   "source": [
    "def aprio(df,minsup=0.001):\n",
    "    apo=apriori(df, min_support=minsup, use_colnames=True)\n",
    "    apo['length'] = apo['itemsets'].apply(lambda x: len(x))\n",
    "    apo=apo.sort_values(by=['support'],ascending=False)\n",
    "    return apo"
   ]
  },
  {
   "cell_type": "code",
   "execution_count": 109,
   "id": "9d216008",
   "metadata": {},
   "outputs": [
    {
     "data": {
      "text/html": [
       "<div>\n",
       "<style scoped>\n",
       "    .dataframe tbody tr th:only-of-type {\n",
       "        vertical-align: middle;\n",
       "    }\n",
       "\n",
       "    .dataframe tbody tr th {\n",
       "        vertical-align: top;\n",
       "    }\n",
       "\n",
       "    .dataframe thead th {\n",
       "        text-align: right;\n",
       "    }\n",
       "</style>\n",
       "<table border=\"1\" class=\"dataframe\">\n",
       "  <thead>\n",
       "    <tr style=\"text-align: right;\">\n",
       "      <th></th>\n",
       "      <th>support</th>\n",
       "      <th>itemsets</th>\n",
       "      <th>length</th>\n",
       "    </tr>\n",
       "  </thead>\n",
       "  <tbody>\n",
       "    <tr>\n",
       "      <th>166</th>\n",
       "      <td>0.016222</td>\n",
       "      <td>(Jade HW Skinny Denim TRS)</td>\n",
       "      <td>1</td>\n",
       "    </tr>\n",
       "    <tr>\n",
       "      <th>381</th>\n",
       "      <td>0.010632</td>\n",
       "      <td>(Timeless Midrise Brief)</td>\n",
       "      <td>1</td>\n",
       "    </tr>\n",
       "    <tr>\n",
       "      <th>222</th>\n",
       "      <td>0.010159</td>\n",
       "      <td>(Luna skinny RW)</td>\n",
       "      <td>1</td>\n",
       "    </tr>\n",
       "    <tr>\n",
       "      <th>376</th>\n",
       "      <td>0.008268</td>\n",
       "      <td>(Tilly (1))</td>\n",
       "      <td>1</td>\n",
       "    </tr>\n",
       "    <tr>\n",
       "      <th>67</th>\n",
       "      <td>0.008003</td>\n",
       "      <td>(Cat Tee.)</td>\n",
       "      <td>1</td>\n",
       "    </tr>\n",
       "    <tr>\n",
       "      <th>...</th>\n",
       "      <td>...</td>\n",
       "      <td>...</td>\n",
       "      <td>...</td>\n",
       "    </tr>\n",
       "    <tr>\n",
       "      <th>232</th>\n",
       "      <td>0.001012</td>\n",
       "      <td>(Maria Shorts.)</td>\n",
       "      <td>1</td>\n",
       "    </tr>\n",
       "    <tr>\n",
       "      <th>242</th>\n",
       "      <td>0.001012</td>\n",
       "      <td>(Milk)</td>\n",
       "      <td>1</td>\n",
       "    </tr>\n",
       "    <tr>\n",
       "      <th>275</th>\n",
       "      <td>0.001012</td>\n",
       "      <td>(Papi Chulo Top)</td>\n",
       "      <td>1</td>\n",
       "    </tr>\n",
       "    <tr>\n",
       "      <th>292</th>\n",
       "      <td>0.001003</td>\n",
       "      <td>(R-NECK SS SLIM FIT)</td>\n",
       "      <td>1</td>\n",
       "    </tr>\n",
       "    <tr>\n",
       "      <th>208</th>\n",
       "      <td>0.001003</td>\n",
       "      <td>(Lazer Razer Roundneck swimsuit)</td>\n",
       "      <td>1</td>\n",
       "    </tr>\n",
       "  </tbody>\n",
       "</table>\n",
       "<p>426 rows × 3 columns</p>\n",
       "</div>"
      ],
      "text/plain": [
       "      support                          itemsets  length\n",
       "166  0.016222        (Jade HW Skinny Denim TRS)       1\n",
       "381  0.010632          (Timeless Midrise Brief)       1\n",
       "222  0.010159                  (Luna skinny RW)       1\n",
       "376  0.008268                       (Tilly (1))       1\n",
       "67   0.008003                        (Cat Tee.)       1\n",
       "..        ...                               ...     ...\n",
       "232  0.001012                   (Maria Shorts.)       1\n",
       "242  0.001012                            (Milk)       1\n",
       "275  0.001012                  (Papi Chulo Top)       1\n",
       "292  0.001003              (R-NECK SS SLIM FIT)       1\n",
       "208  0.001003  (Lazer Razer Roundneck swimsuit)       1\n",
       "\n",
       "[426 rows x 3 columns]"
      ]
     },
     "execution_count": 109,
     "metadata": {},
     "output_type": "execute_result"
    }
   ],
   "source": [
    "# Age 20-30\n",
    "\n",
    "aprio(df,0.001)"
   ]
  },
  {
   "cell_type": "code",
   "execution_count": 110,
   "id": "f0a39b7b",
   "metadata": {},
   "outputs": [
    {
     "data": {
      "text/html": [
       "<div>\n",
       "<style scoped>\n",
       "    .dataframe tbody tr th:only-of-type {\n",
       "        vertical-align: middle;\n",
       "    }\n",
       "\n",
       "    .dataframe tbody tr th {\n",
       "        vertical-align: top;\n",
       "    }\n",
       "\n",
       "    .dataframe thead th {\n",
       "        text-align: right;\n",
       "    }\n",
       "</style>\n",
       "<table border=\"1\" class=\"dataframe\">\n",
       "  <thead>\n",
       "    <tr style=\"text-align: right;\">\n",
       "      <th></th>\n",
       "      <th>support</th>\n",
       "      <th>itemsets</th>\n",
       "      <th>length</th>\n",
       "    </tr>\n",
       "  </thead>\n",
       "  <tbody>\n",
       "    <tr>\n",
       "      <th>422</th>\n",
       "      <td>0.003641</td>\n",
       "      <td>(Simple as that Cheeky Tanga, Simple as That T...</td>\n",
       "      <td>2</td>\n",
       "    </tr>\n",
       "    <tr>\n",
       "      <th>421</th>\n",
       "      <td>0.002422</td>\n",
       "      <td>(Shake it in Balconette, Timeless Midrise Brief)</td>\n",
       "      <td>2</td>\n",
       "    </tr>\n",
       "    <tr>\n",
       "      <th>423</th>\n",
       "      <td>0.001990</td>\n",
       "      <td>(Timeless Midrise Brief, Simple as That Triang...</td>\n",
       "      <td>2</td>\n",
       "    </tr>\n",
       "    <tr>\n",
       "      <th>424</th>\n",
       "      <td>0.001443</td>\n",
       "      <td>(Timeless Sports Top, The Low Line Highwaist)</td>\n",
       "      <td>2</td>\n",
       "    </tr>\n",
       "    <tr>\n",
       "      <th>420</th>\n",
       "      <td>0.001153</td>\n",
       "      <td>(Timeless Midrise Brief, New Girl Push Top)</td>\n",
       "      <td>2</td>\n",
       "    </tr>\n",
       "    <tr>\n",
       "      <th>419</th>\n",
       "      <td>0.001128</td>\n",
       "      <td>(New Girl Wide Side Tanga, New Girl Push Top)</td>\n",
       "      <td>2</td>\n",
       "    </tr>\n",
       "    <tr>\n",
       "      <th>425</th>\n",
       "      <td>0.001020</td>\n",
       "      <td>(Timeless Midrise Brief, Timeless Triangle Top)</td>\n",
       "      <td>2</td>\n",
       "    </tr>\n",
       "    <tr>\n",
       "      <th>418</th>\n",
       "      <td>0.001012</td>\n",
       "      <td>(Lazer Razer Brief, Lazer Razer Adj. push tria...</td>\n",
       "      <td>2</td>\n",
       "    </tr>\n",
       "  </tbody>\n",
       "</table>\n",
       "</div>"
      ],
      "text/plain": [
       "      support                                           itemsets  length\n",
       "422  0.003641  (Simple as that Cheeky Tanga, Simple as That T...       2\n",
       "421  0.002422   (Shake it in Balconette, Timeless Midrise Brief)       2\n",
       "423  0.001990  (Timeless Midrise Brief, Simple as That Triang...       2\n",
       "424  0.001443      (Timeless Sports Top, The Low Line Highwaist)       2\n",
       "420  0.001153        (Timeless Midrise Brief, New Girl Push Top)       2\n",
       "419  0.001128      (New Girl Wide Side Tanga, New Girl Push Top)       2\n",
       "425  0.001020    (Timeless Midrise Brief, Timeless Triangle Top)       2\n",
       "418  0.001012  (Lazer Razer Brief, Lazer Razer Adj. push tria...       2"
      ]
     },
     "execution_count": 110,
     "metadata": {},
     "output_type": "execute_result"
    }
   ],
   "source": [
    "#age 20-30\n",
    "apo[apo.length>=2]"
   ]
  },
  {
   "cell_type": "code",
   "execution_count": 112,
   "id": "fe77ef84",
   "metadata": {},
   "outputs": [],
   "source": [
    "def freqitm(df,minsup=0.001):\n",
    "    frequent_itemsets = fpgrowth(df, min_support=minsup,use_colnames=True)\n",
    "    frequent_itemsets.sort_values(by=['support'],ascending=False)\n",
    "    return frequent_itemsets"
   ]
  },
  {
   "cell_type": "code",
   "execution_count": 114,
   "id": "b02cca17",
   "metadata": {},
   "outputs": [
    {
     "data": {
      "text/html": [
       "<div>\n",
       "<style scoped>\n",
       "    .dataframe tbody tr th:only-of-type {\n",
       "        vertical-align: middle;\n",
       "    }\n",
       "\n",
       "    .dataframe tbody tr th {\n",
       "        vertical-align: top;\n",
       "    }\n",
       "\n",
       "    .dataframe thead th {\n",
       "        text-align: right;\n",
       "    }\n",
       "</style>\n",
       "<table border=\"1\" class=\"dataframe\">\n",
       "  <thead>\n",
       "    <tr style=\"text-align: right;\">\n",
       "      <th></th>\n",
       "      <th>support</th>\n",
       "      <th>itemsets</th>\n",
       "    </tr>\n",
       "  </thead>\n",
       "  <tbody>\n",
       "    <tr>\n",
       "      <th>0</th>\n",
       "      <td>0.001252</td>\n",
       "      <td>(Claudine rib t-shirt)</td>\n",
       "    </tr>\n",
       "    <tr>\n",
       "      <th>1</th>\n",
       "      <td>0.001161</td>\n",
       "      <td>(1pk Fun)</td>\n",
       "    </tr>\n",
       "    <tr>\n",
       "      <th>2</th>\n",
       "      <td>0.016222</td>\n",
       "      <td>(Jade HW Skinny Denim TRS)</td>\n",
       "    </tr>\n",
       "    <tr>\n",
       "      <th>3</th>\n",
       "      <td>0.004445</td>\n",
       "      <td>(Julia RW Skinny Denim TRS)</td>\n",
       "    </tr>\n",
       "    <tr>\n",
       "      <th>4</th>\n",
       "      <td>0.001252</td>\n",
       "      <td>(Siri Cardigan)</td>\n",
       "    </tr>\n",
       "    <tr>\n",
       "      <th>...</th>\n",
       "      <td>...</td>\n",
       "      <td>...</td>\n",
       "    </tr>\n",
       "    <tr>\n",
       "      <th>421</th>\n",
       "      <td>0.002422</td>\n",
       "      <td>(Shake it in Balconette, Timeless Midrise Brief)</td>\n",
       "    </tr>\n",
       "    <tr>\n",
       "      <th>422</th>\n",
       "      <td>0.001153</td>\n",
       "      <td>(Timeless Midrise Brief, New Girl Push Top)</td>\n",
       "    </tr>\n",
       "    <tr>\n",
       "      <th>423</th>\n",
       "      <td>0.001128</td>\n",
       "      <td>(New Girl Wide Side Tanga, New Girl Push Top)</td>\n",
       "    </tr>\n",
       "    <tr>\n",
       "      <th>424</th>\n",
       "      <td>0.001012</td>\n",
       "      <td>(Lazer Razer Brief, Lazer Razer Adj. push tria...</td>\n",
       "    </tr>\n",
       "    <tr>\n",
       "      <th>425</th>\n",
       "      <td>0.001443</td>\n",
       "      <td>(Timeless Sports Top, The Low Line Highwaist)</td>\n",
       "    </tr>\n",
       "  </tbody>\n",
       "</table>\n",
       "<p>426 rows × 2 columns</p>\n",
       "</div>"
      ],
      "text/plain": [
       "      support                                           itemsets\n",
       "0    0.001252                             (Claudine rib t-shirt)\n",
       "1    0.001161                                          (1pk Fun)\n",
       "2    0.016222                         (Jade HW Skinny Denim TRS)\n",
       "3    0.004445                        (Julia RW Skinny Denim TRS)\n",
       "4    0.001252                                    (Siri Cardigan)\n",
       "..        ...                                                ...\n",
       "421  0.002422   (Shake it in Balconette, Timeless Midrise Brief)\n",
       "422  0.001153        (Timeless Midrise Brief, New Girl Push Top)\n",
       "423  0.001128      (New Girl Wide Side Tanga, New Girl Push Top)\n",
       "424  0.001012  (Lazer Razer Brief, Lazer Razer Adj. push tria...\n",
       "425  0.001443      (Timeless Sports Top, The Low Line Highwaist)\n",
       "\n",
       "[426 rows x 2 columns]"
      ]
     },
     "execution_count": 114,
     "metadata": {},
     "output_type": "execute_result"
    }
   ],
   "source": [
    "# age 20-30\n",
    "# the same as above but faster \n",
    "freqitm(df,0.001)"
   ]
  },
  {
   "cell_type": "code",
   "execution_count": 115,
   "id": "2e4ff9d9",
   "metadata": {},
   "outputs": [],
   "source": [
    "def apo_rules(frequent_itemsets):\n",
    "    apriori_rules=association_rules(frequent_itemsets, metric=\"confidence\", min_threshold=0.0002)\n",
    "    apriori_rules=apriori_rules.sort_values('confidence', ascending = False, inplace = True)\n",
    "    return apriori_rules"
   ]
  },
  {
   "cell_type": "code",
   "execution_count": 117,
   "id": "45e4403b",
   "metadata": {},
   "outputs": [],
   "source": [
    "apo_rules(frequent_itemsets)"
   ]
  },
  {
   "cell_type": "code",
   "execution_count": 118,
   "id": "fd732efd",
   "metadata": {},
   "outputs": [
    {
     "data": {
      "text/html": [
       "<div>\n",
       "<style scoped>\n",
       "    .dataframe tbody tr th:only-of-type {\n",
       "        vertical-align: middle;\n",
       "    }\n",
       "\n",
       "    .dataframe tbody tr th {\n",
       "        vertical-align: top;\n",
       "    }\n",
       "\n",
       "    .dataframe thead th {\n",
       "        text-align: right;\n",
       "    }\n",
       "</style>\n",
       "<table border=\"1\" class=\"dataframe\">\n",
       "  <thead>\n",
       "    <tr style=\"text-align: right;\">\n",
       "      <th></th>\n",
       "      <th>antecedents</th>\n",
       "      <th>consequents</th>\n",
       "      <th>antecedent support</th>\n",
       "      <th>consequent support</th>\n",
       "      <th>support</th>\n",
       "      <th>confidence</th>\n",
       "      <th>lift</th>\n",
       "      <th>leverage</th>\n",
       "      <th>conviction</th>\n",
       "    </tr>\n",
       "  </thead>\n",
       "  <tbody>\n",
       "    <tr>\n",
       "      <th>15</th>\n",
       "      <td>(The Low Line Highwaist)</td>\n",
       "      <td>(Timeless Sports Top)</td>\n",
       "      <td>0.001957</td>\n",
       "      <td>0.002214</td>\n",
       "      <td>0.001443</td>\n",
       "      <td>0.737288</td>\n",
       "      <td>332.964293</td>\n",
       "      <td>0.001439</td>\n",
       "      <td>3.798023</td>\n",
       "    </tr>\n",
       "    <tr>\n",
       "      <th>10</th>\n",
       "      <td>(New Girl Wide Side Tanga)</td>\n",
       "      <td>(New Girl Push Top)</td>\n",
       "      <td>0.001650</td>\n",
       "      <td>0.004495</td>\n",
       "      <td>0.001128</td>\n",
       "      <td>0.683417</td>\n",
       "      <td>152.040127</td>\n",
       "      <td>0.001120</td>\n",
       "      <td>3.144532</td>\n",
       "    </tr>\n",
       "    <tr>\n",
       "      <th>14</th>\n",
       "      <td>(Timeless Sports Top)</td>\n",
       "      <td>(The Low Line Highwaist)</td>\n",
       "      <td>0.002214</td>\n",
       "      <td>0.001957</td>\n",
       "      <td>0.001443</td>\n",
       "      <td>0.651685</td>\n",
       "      <td>332.964293</td>\n",
       "      <td>0.001439</td>\n",
       "      <td>2.865349</td>\n",
       "    </tr>\n",
       "    <tr>\n",
       "      <th>13</th>\n",
       "      <td>(Lazer Razer Adj. push triangle)</td>\n",
       "      <td>(Lazer Razer Brief)</td>\n",
       "      <td>0.001717</td>\n",
       "      <td>0.004644</td>\n",
       "      <td>0.001012</td>\n",
       "      <td>0.589372</td>\n",
       "      <td>126.903364</td>\n",
       "      <td>0.001004</td>\n",
       "      <td>2.423984</td>\n",
       "    </tr>\n",
       "    <tr>\n",
       "      <th>0</th>\n",
       "      <td>(Simple as that Cheeky Tanga)</td>\n",
       "      <td>(Simple as That Triangle Top)</td>\n",
       "      <td>0.006485</td>\n",
       "      <td>0.007605</td>\n",
       "      <td>0.003641</td>\n",
       "      <td>0.561381</td>\n",
       "      <td>73.817632</td>\n",
       "      <td>0.003591</td>\n",
       "      <td>2.262545</td>\n",
       "    </tr>\n",
       "    <tr>\n",
       "      <th>1</th>\n",
       "      <td>(Simple as That Triangle Top)</td>\n",
       "      <td>(Simple as that Cheeky Tanga)</td>\n",
       "      <td>0.007605</td>\n",
       "      <td>0.006485</td>\n",
       "      <td>0.003641</td>\n",
       "      <td>0.478735</td>\n",
       "      <td>73.817632</td>\n",
       "      <td>0.003591</td>\n",
       "      <td>1.905968</td>\n",
       "    </tr>\n",
       "    <tr>\n",
       "      <th>6</th>\n",
       "      <td>(Shake it in Balconette)</td>\n",
       "      <td>(Timeless Midrise Brief)</td>\n",
       "      <td>0.005689</td>\n",
       "      <td>0.010632</td>\n",
       "      <td>0.002422</td>\n",
       "      <td>0.425656</td>\n",
       "      <td>40.035236</td>\n",
       "      <td>0.002361</td>\n",
       "      <td>1.722605</td>\n",
       "    </tr>\n",
       "    <tr>\n",
       "      <th>3</th>\n",
       "      <td>(Timeless Triangle Top)</td>\n",
       "      <td>(Timeless Midrise Brief)</td>\n",
       "      <td>0.002986</td>\n",
       "      <td>0.010632</td>\n",
       "      <td>0.001020</td>\n",
       "      <td>0.341667</td>\n",
       "      <td>32.135589</td>\n",
       "      <td>0.000988</td>\n",
       "      <td>1.502837</td>\n",
       "    </tr>\n",
       "    <tr>\n",
       "      <th>5</th>\n",
       "      <td>(Simple as That Triangle Top)</td>\n",
       "      <td>(Timeless Midrise Brief)</td>\n",
       "      <td>0.007605</td>\n",
       "      <td>0.010632</td>\n",
       "      <td>0.001990</td>\n",
       "      <td>0.261723</td>\n",
       "      <td>24.616458</td>\n",
       "      <td>0.001910</td>\n",
       "      <td>1.340104</td>\n",
       "    </tr>\n",
       "    <tr>\n",
       "      <th>9</th>\n",
       "      <td>(New Girl Push Top)</td>\n",
       "      <td>(Timeless Midrise Brief)</td>\n",
       "      <td>0.004495</td>\n",
       "      <td>0.010632</td>\n",
       "      <td>0.001153</td>\n",
       "      <td>0.256458</td>\n",
       "      <td>24.121214</td>\n",
       "      <td>0.001105</td>\n",
       "      <td>1.330614</td>\n",
       "    </tr>\n",
       "    <tr>\n",
       "      <th>11</th>\n",
       "      <td>(New Girl Push Top)</td>\n",
       "      <td>(New Girl Wide Side Tanga)</td>\n",
       "      <td>0.004495</td>\n",
       "      <td>0.001650</td>\n",
       "      <td>0.001128</td>\n",
       "      <td>0.250923</td>\n",
       "      <td>152.040127</td>\n",
       "      <td>0.001120</td>\n",
       "      <td>1.332772</td>\n",
       "    </tr>\n",
       "    <tr>\n",
       "      <th>7</th>\n",
       "      <td>(Timeless Midrise Brief)</td>\n",
       "      <td>(Shake it in Balconette)</td>\n",
       "      <td>0.010632</td>\n",
       "      <td>0.005689</td>\n",
       "      <td>0.002422</td>\n",
       "      <td>0.227769</td>\n",
       "      <td>40.035236</td>\n",
       "      <td>0.002361</td>\n",
       "      <td>1.287582</td>\n",
       "    </tr>\n",
       "    <tr>\n",
       "      <th>12</th>\n",
       "      <td>(Lazer Razer Brief)</td>\n",
       "      <td>(Lazer Razer Adj. push triangle)</td>\n",
       "      <td>0.004644</td>\n",
       "      <td>0.001717</td>\n",
       "      <td>0.001012</td>\n",
       "      <td>0.217857</td>\n",
       "      <td>126.903364</td>\n",
       "      <td>0.001004</td>\n",
       "      <td>1.276344</td>\n",
       "    </tr>\n",
       "    <tr>\n",
       "      <th>4</th>\n",
       "      <td>(Timeless Midrise Brief)</td>\n",
       "      <td>(Simple as That Triangle Top)</td>\n",
       "      <td>0.010632</td>\n",
       "      <td>0.007605</td>\n",
       "      <td>0.001990</td>\n",
       "      <td>0.187207</td>\n",
       "      <td>24.616458</td>\n",
       "      <td>0.001910</td>\n",
       "      <td>1.220970</td>\n",
       "    </tr>\n",
       "    <tr>\n",
       "      <th>8</th>\n",
       "      <td>(Timeless Midrise Brief)</td>\n",
       "      <td>(New Girl Push Top)</td>\n",
       "      <td>0.010632</td>\n",
       "      <td>0.004495</td>\n",
       "      <td>0.001153</td>\n",
       "      <td>0.108424</td>\n",
       "      <td>24.121214</td>\n",
       "      <td>0.001105</td>\n",
       "      <td>1.116568</td>\n",
       "    </tr>\n",
       "    <tr>\n",
       "      <th>2</th>\n",
       "      <td>(Timeless Midrise Brief)</td>\n",
       "      <td>(Timeless Triangle Top)</td>\n",
       "      <td>0.010632</td>\n",
       "      <td>0.002986</td>\n",
       "      <td>0.001020</td>\n",
       "      <td>0.095944</td>\n",
       "      <td>32.135589</td>\n",
       "      <td>0.000988</td>\n",
       "      <td>1.102824</td>\n",
       "    </tr>\n",
       "  </tbody>\n",
       "</table>\n",
       "</div>"
      ],
      "text/plain": [
       "                         antecedents                       consequents  \\\n",
       "15          (The Low Line Highwaist)             (Timeless Sports Top)   \n",
       "10        (New Girl Wide Side Tanga)               (New Girl Push Top)   \n",
       "14             (Timeless Sports Top)          (The Low Line Highwaist)   \n",
       "13  (Lazer Razer Adj. push triangle)               (Lazer Razer Brief)   \n",
       "0      (Simple as that Cheeky Tanga)     (Simple as That Triangle Top)   \n",
       "1      (Simple as That Triangle Top)     (Simple as that Cheeky Tanga)   \n",
       "6           (Shake it in Balconette)          (Timeless Midrise Brief)   \n",
       "3            (Timeless Triangle Top)          (Timeless Midrise Brief)   \n",
       "5      (Simple as That Triangle Top)          (Timeless Midrise Brief)   \n",
       "9                (New Girl Push Top)          (Timeless Midrise Brief)   \n",
       "11               (New Girl Push Top)        (New Girl Wide Side Tanga)   \n",
       "7           (Timeless Midrise Brief)          (Shake it in Balconette)   \n",
       "12               (Lazer Razer Brief)  (Lazer Razer Adj. push triangle)   \n",
       "4           (Timeless Midrise Brief)     (Simple as That Triangle Top)   \n",
       "8           (Timeless Midrise Brief)               (New Girl Push Top)   \n",
       "2           (Timeless Midrise Brief)           (Timeless Triangle Top)   \n",
       "\n",
       "    antecedent support  consequent support   support  confidence        lift  \\\n",
       "15            0.001957            0.002214  0.001443    0.737288  332.964293   \n",
       "10            0.001650            0.004495  0.001128    0.683417  152.040127   \n",
       "14            0.002214            0.001957  0.001443    0.651685  332.964293   \n",
       "13            0.001717            0.004644  0.001012    0.589372  126.903364   \n",
       "0             0.006485            0.007605  0.003641    0.561381   73.817632   \n",
       "1             0.007605            0.006485  0.003641    0.478735   73.817632   \n",
       "6             0.005689            0.010632  0.002422    0.425656   40.035236   \n",
       "3             0.002986            0.010632  0.001020    0.341667   32.135589   \n",
       "5             0.007605            0.010632  0.001990    0.261723   24.616458   \n",
       "9             0.004495            0.010632  0.001153    0.256458   24.121214   \n",
       "11            0.004495            0.001650  0.001128    0.250923  152.040127   \n",
       "7             0.010632            0.005689  0.002422    0.227769   40.035236   \n",
       "12            0.004644            0.001717  0.001012    0.217857  126.903364   \n",
       "4             0.010632            0.007605  0.001990    0.187207   24.616458   \n",
       "8             0.010632            0.004495  0.001153    0.108424   24.121214   \n",
       "2             0.010632            0.002986  0.001020    0.095944   32.135589   \n",
       "\n",
       "    leverage  conviction  \n",
       "15  0.001439    3.798023  \n",
       "10  0.001120    3.144532  \n",
       "14  0.001439    2.865349  \n",
       "13  0.001004    2.423984  \n",
       "0   0.003591    2.262545  \n",
       "1   0.003591    1.905968  \n",
       "6   0.002361    1.722605  \n",
       "3   0.000988    1.502837  \n",
       "5   0.001910    1.340104  \n",
       "9   0.001105    1.330614  \n",
       "11  0.001120    1.332772  \n",
       "7   0.002361    1.287582  \n",
       "12  0.001004    1.276344  \n",
       "4   0.001910    1.220970  \n",
       "8   0.001105    1.116568  \n",
       "2   0.000988    1.102824  "
      ]
     },
     "execution_count": 118,
     "metadata": {},
     "output_type": "execute_result"
    }
   ],
   "source": [
    "#Age 20-30\n",
    "apriori_rules"
   ]
  },
  {
   "cell_type": "code",
   "execution_count": null,
   "id": "9c40c262",
   "metadata": {},
   "outputs": [],
   "source": [
    "#age 30-40"
   ]
  },
  {
   "cell_type": "code",
   "execution_count": 133,
   "id": "e1893173",
   "metadata": {},
   "outputs": [
    {
     "data": {
      "text/html": [
       "<div>\n",
       "<style scoped>\n",
       "    .dataframe tbody tr th:only-of-type {\n",
       "        vertical-align: middle;\n",
       "    }\n",
       "\n",
       "    .dataframe tbody tr th {\n",
       "        vertical-align: top;\n",
       "    }\n",
       "\n",
       "    .dataframe thead th {\n",
       "        text-align: right;\n",
       "    }\n",
       "</style>\n",
       "<table border=\"1\" class=\"dataframe\">\n",
       "  <thead>\n",
       "    <tr style=\"text-align: right;\">\n",
       "      <th></th>\n",
       "      <th>support</th>\n",
       "      <th>itemsets</th>\n",
       "      <th>length</th>\n",
       "    </tr>\n",
       "  </thead>\n",
       "  <tbody>\n",
       "    <tr>\n",
       "      <th>243</th>\n",
       "      <td>0.013071</td>\n",
       "      <td>(Luna skinny RW)</td>\n",
       "      <td>1</td>\n",
       "    </tr>\n",
       "    <tr>\n",
       "      <th>397</th>\n",
       "      <td>0.009502</td>\n",
       "      <td>(Tilly (1))</td>\n",
       "      <td>1</td>\n",
       "    </tr>\n",
       "    <tr>\n",
       "      <th>401</th>\n",
       "      <td>0.009402</td>\n",
       "      <td>(Timeless Midrise Brief)</td>\n",
       "      <td>1</td>\n",
       "    </tr>\n",
       "    <tr>\n",
       "      <th>185</th>\n",
       "      <td>0.009242</td>\n",
       "      <td>(Jade HW Skinny Denim TRS)</td>\n",
       "      <td>1</td>\n",
       "    </tr>\n",
       "    <tr>\n",
       "      <th>345</th>\n",
       "      <td>0.008079</td>\n",
       "      <td>(Shake it in Balconette)</td>\n",
       "      <td>1</td>\n",
       "    </tr>\n",
       "    <tr>\n",
       "      <th>...</th>\n",
       "      <td>...</td>\n",
       "      <td>...</td>\n",
       "      <td>...</td>\n",
       "    </tr>\n",
       "    <tr>\n",
       "      <th>31</th>\n",
       "      <td>0.001002</td>\n",
       "      <td>(Barton midi skirt)</td>\n",
       "      <td>1</td>\n",
       "    </tr>\n",
       "    <tr>\n",
       "      <th>151</th>\n",
       "      <td>0.001002</td>\n",
       "      <td>(Grimsby)</td>\n",
       "      <td>1</td>\n",
       "    </tr>\n",
       "    <tr>\n",
       "      <th>311</th>\n",
       "      <td>0.001002</td>\n",
       "      <td>(Prima(1))</td>\n",
       "      <td>1</td>\n",
       "    </tr>\n",
       "    <tr>\n",
       "      <th>149</th>\n",
       "      <td>0.001002</td>\n",
       "      <td>(Greta ctn brazilian 3p)</td>\n",
       "      <td>1</td>\n",
       "    </tr>\n",
       "    <tr>\n",
       "      <th>237</th>\n",
       "      <td>0.001002</td>\n",
       "      <td>(Love Affair High Rise Brief)</td>\n",
       "      <td>1</td>\n",
       "    </tr>\n",
       "  </tbody>\n",
       "</table>\n",
       "<p>436 rows × 3 columns</p>\n",
       "</div>"
      ],
      "text/plain": [
       "      support                       itemsets  length\n",
       "243  0.013071               (Luna skinny RW)       1\n",
       "397  0.009502                    (Tilly (1))       1\n",
       "401  0.009402       (Timeless Midrise Brief)       1\n",
       "185  0.009242     (Jade HW Skinny Denim TRS)       1\n",
       "345  0.008079       (Shake it in Balconette)       1\n",
       "..        ...                            ...     ...\n",
       "31   0.001002            (Barton midi skirt)       1\n",
       "151  0.001002                      (Grimsby)       1\n",
       "311  0.001002                     (Prima(1))       1\n",
       "149  0.001002       (Greta ctn brazilian 3p)       1\n",
       "237  0.001002  (Love Affair High Rise Brief)       1\n",
       "\n",
       "[436 rows x 3 columns]"
      ]
     },
     "execution_count": 133,
     "metadata": {},
     "output_type": "execute_result"
    }
   ],
   "source": [
    "aprio(df,0.001)"
   ]
  },
  {
   "cell_type": "code",
   "execution_count": 134,
   "id": "f95d767b",
   "metadata": {},
   "outputs": [
    {
     "data": {
      "text/html": [
       "<div>\n",
       "<style scoped>\n",
       "    .dataframe tbody tr th:only-of-type {\n",
       "        vertical-align: middle;\n",
       "    }\n",
       "\n",
       "    .dataframe tbody tr th {\n",
       "        vertical-align: top;\n",
       "    }\n",
       "\n",
       "    .dataframe thead th {\n",
       "        text-align: right;\n",
       "    }\n",
       "</style>\n",
       "<table border=\"1\" class=\"dataframe\">\n",
       "  <thead>\n",
       "    <tr style=\"text-align: right;\">\n",
       "      <th></th>\n",
       "      <th>support</th>\n",
       "      <th>itemsets</th>\n",
       "    </tr>\n",
       "  </thead>\n",
       "  <tbody>\n",
       "    <tr>\n",
       "      <th>0</th>\n",
       "      <td>0.002105</td>\n",
       "      <td>(Jennifer (1))</td>\n",
       "    </tr>\n",
       "    <tr>\n",
       "      <th>1</th>\n",
       "      <td>0.001784</td>\n",
       "      <td>(Support 40 den 1p Tights)</td>\n",
       "    </tr>\n",
       "    <tr>\n",
       "      <th>2</th>\n",
       "      <td>0.001463</td>\n",
       "      <td>(40 den 2p Tights)</td>\n",
       "    </tr>\n",
       "    <tr>\n",
       "      <th>3</th>\n",
       "      <td>0.001062</td>\n",
       "      <td>(Control Lt 40 den 2p Tights)</td>\n",
       "    </tr>\n",
       "    <tr>\n",
       "      <th>4</th>\n",
       "      <td>0.001042</td>\n",
       "      <td>(Kia Paperbag (1))</td>\n",
       "    </tr>\n",
       "    <tr>\n",
       "      <th>...</th>\n",
       "      <td>...</td>\n",
       "      <td>...</td>\n",
       "    </tr>\n",
       "    <tr>\n",
       "      <th>431</th>\n",
       "      <td>0.001463</td>\n",
       "      <td>(Pingu top)</td>\n",
       "    </tr>\n",
       "    <tr>\n",
       "      <th>432</th>\n",
       "      <td>0.002546</td>\n",
       "      <td>(Simple as that Cheeky Tanga, Simple as That T...</td>\n",
       "    </tr>\n",
       "    <tr>\n",
       "      <th>433</th>\n",
       "      <td>0.001203</td>\n",
       "      <td>(Timeless Midrise Brief, New Girl Push Top)</td>\n",
       "    </tr>\n",
       "    <tr>\n",
       "      <th>434</th>\n",
       "      <td>0.003147</td>\n",
       "      <td>(Shake it in Balconette, Timeless Midrise Brief)</td>\n",
       "    </tr>\n",
       "    <tr>\n",
       "      <th>435</th>\n",
       "      <td>0.001403</td>\n",
       "      <td>(Timeless Midrise Brief, Simple as That Triang...</td>\n",
       "    </tr>\n",
       "  </tbody>\n",
       "</table>\n",
       "<p>436 rows × 2 columns</p>\n",
       "</div>"
      ],
      "text/plain": [
       "      support                                           itemsets\n",
       "0    0.002105                                     (Jennifer (1))\n",
       "1    0.001784                         (Support 40 den 1p Tights)\n",
       "2    0.001463                                 (40 den 2p Tights)\n",
       "3    0.001062                      (Control Lt 40 den 2p Tights)\n",
       "4    0.001042                                 (Kia Paperbag (1))\n",
       "..        ...                                                ...\n",
       "431  0.001463                                        (Pingu top)\n",
       "432  0.002546  (Simple as that Cheeky Tanga, Simple as That T...\n",
       "433  0.001203        (Timeless Midrise Brief, New Girl Push Top)\n",
       "434  0.003147   (Shake it in Balconette, Timeless Midrise Brief)\n",
       "435  0.001403  (Timeless Midrise Brief, Simple as That Triang...\n",
       "\n",
       "[436 rows x 2 columns]"
      ]
     },
     "execution_count": 134,
     "metadata": {},
     "output_type": "execute_result"
    }
   ],
   "source": [
    "#age 30-40\n",
    "freqitm(df,0.001)"
   ]
  },
  {
   "cell_type": "code",
   "execution_count": 135,
   "id": "c350dd37",
   "metadata": {},
   "outputs": [],
   "source": [
    "apo_rules(frequent_itemsets)"
   ]
  },
  {
   "cell_type": "code",
   "execution_count": 138,
   "id": "58845f82",
   "metadata": {},
   "outputs": [
    {
     "data": {
      "text/html": [
       "<div>\n",
       "<style scoped>\n",
       "    .dataframe tbody tr th:only-of-type {\n",
       "        vertical-align: middle;\n",
       "    }\n",
       "\n",
       "    .dataframe tbody tr th {\n",
       "        vertical-align: top;\n",
       "    }\n",
       "\n",
       "    .dataframe thead th {\n",
       "        text-align: right;\n",
       "    }\n",
       "</style>\n",
       "<table border=\"1\" class=\"dataframe\">\n",
       "  <thead>\n",
       "    <tr style=\"text-align: right;\">\n",
       "      <th></th>\n",
       "      <th>antecedents</th>\n",
       "      <th>consequents</th>\n",
       "      <th>antecedent support</th>\n",
       "      <th>consequent support</th>\n",
       "      <th>support</th>\n",
       "      <th>confidence</th>\n",
       "      <th>lift</th>\n",
       "      <th>leverage</th>\n",
       "      <th>conviction</th>\n",
       "    </tr>\n",
       "  </thead>\n",
       "  <tbody>\n",
       "    <tr>\n",
       "      <th>15</th>\n",
       "      <td>(The Low Line Highwaist)</td>\n",
       "      <td>(Timeless Sports Top)</td>\n",
       "      <td>0.001957</td>\n",
       "      <td>0.002214</td>\n",
       "      <td>0.001443</td>\n",
       "      <td>0.737288</td>\n",
       "      <td>332.964293</td>\n",
       "      <td>0.001439</td>\n",
       "      <td>3.798023</td>\n",
       "    </tr>\n",
       "    <tr>\n",
       "      <th>10</th>\n",
       "      <td>(New Girl Wide Side Tanga)</td>\n",
       "      <td>(New Girl Push Top)</td>\n",
       "      <td>0.001650</td>\n",
       "      <td>0.004495</td>\n",
       "      <td>0.001128</td>\n",
       "      <td>0.683417</td>\n",
       "      <td>152.040127</td>\n",
       "      <td>0.001120</td>\n",
       "      <td>3.144532</td>\n",
       "    </tr>\n",
       "    <tr>\n",
       "      <th>14</th>\n",
       "      <td>(Timeless Sports Top)</td>\n",
       "      <td>(The Low Line Highwaist)</td>\n",
       "      <td>0.002214</td>\n",
       "      <td>0.001957</td>\n",
       "      <td>0.001443</td>\n",
       "      <td>0.651685</td>\n",
       "      <td>332.964293</td>\n",
       "      <td>0.001439</td>\n",
       "      <td>2.865349</td>\n",
       "    </tr>\n",
       "    <tr>\n",
       "      <th>13</th>\n",
       "      <td>(Lazer Razer Adj. push triangle)</td>\n",
       "      <td>(Lazer Razer Brief)</td>\n",
       "      <td>0.001717</td>\n",
       "      <td>0.004644</td>\n",
       "      <td>0.001012</td>\n",
       "      <td>0.589372</td>\n",
       "      <td>126.903364</td>\n",
       "      <td>0.001004</td>\n",
       "      <td>2.423984</td>\n",
       "    </tr>\n",
       "    <tr>\n",
       "      <th>0</th>\n",
       "      <td>(Simple as that Cheeky Tanga)</td>\n",
       "      <td>(Simple as That Triangle Top)</td>\n",
       "      <td>0.006485</td>\n",
       "      <td>0.007605</td>\n",
       "      <td>0.003641</td>\n",
       "      <td>0.561381</td>\n",
       "      <td>73.817632</td>\n",
       "      <td>0.003591</td>\n",
       "      <td>2.262545</td>\n",
       "    </tr>\n",
       "    <tr>\n",
       "      <th>1</th>\n",
       "      <td>(Simple as That Triangle Top)</td>\n",
       "      <td>(Simple as that Cheeky Tanga)</td>\n",
       "      <td>0.007605</td>\n",
       "      <td>0.006485</td>\n",
       "      <td>0.003641</td>\n",
       "      <td>0.478735</td>\n",
       "      <td>73.817632</td>\n",
       "      <td>0.003591</td>\n",
       "      <td>1.905968</td>\n",
       "    </tr>\n",
       "    <tr>\n",
       "      <th>6</th>\n",
       "      <td>(Shake it in Balconette)</td>\n",
       "      <td>(Timeless Midrise Brief)</td>\n",
       "      <td>0.005689</td>\n",
       "      <td>0.010632</td>\n",
       "      <td>0.002422</td>\n",
       "      <td>0.425656</td>\n",
       "      <td>40.035236</td>\n",
       "      <td>0.002361</td>\n",
       "      <td>1.722605</td>\n",
       "    </tr>\n",
       "    <tr>\n",
       "      <th>3</th>\n",
       "      <td>(Timeless Triangle Top)</td>\n",
       "      <td>(Timeless Midrise Brief)</td>\n",
       "      <td>0.002986</td>\n",
       "      <td>0.010632</td>\n",
       "      <td>0.001020</td>\n",
       "      <td>0.341667</td>\n",
       "      <td>32.135589</td>\n",
       "      <td>0.000988</td>\n",
       "      <td>1.502837</td>\n",
       "    </tr>\n",
       "    <tr>\n",
       "      <th>5</th>\n",
       "      <td>(Simple as That Triangle Top)</td>\n",
       "      <td>(Timeless Midrise Brief)</td>\n",
       "      <td>0.007605</td>\n",
       "      <td>0.010632</td>\n",
       "      <td>0.001990</td>\n",
       "      <td>0.261723</td>\n",
       "      <td>24.616458</td>\n",
       "      <td>0.001910</td>\n",
       "      <td>1.340104</td>\n",
       "    </tr>\n",
       "    <tr>\n",
       "      <th>9</th>\n",
       "      <td>(New Girl Push Top)</td>\n",
       "      <td>(Timeless Midrise Brief)</td>\n",
       "      <td>0.004495</td>\n",
       "      <td>0.010632</td>\n",
       "      <td>0.001153</td>\n",
       "      <td>0.256458</td>\n",
       "      <td>24.121214</td>\n",
       "      <td>0.001105</td>\n",
       "      <td>1.330614</td>\n",
       "    </tr>\n",
       "    <tr>\n",
       "      <th>11</th>\n",
       "      <td>(New Girl Push Top)</td>\n",
       "      <td>(New Girl Wide Side Tanga)</td>\n",
       "      <td>0.004495</td>\n",
       "      <td>0.001650</td>\n",
       "      <td>0.001128</td>\n",
       "      <td>0.250923</td>\n",
       "      <td>152.040127</td>\n",
       "      <td>0.001120</td>\n",
       "      <td>1.332772</td>\n",
       "    </tr>\n",
       "    <tr>\n",
       "      <th>7</th>\n",
       "      <td>(Timeless Midrise Brief)</td>\n",
       "      <td>(Shake it in Balconette)</td>\n",
       "      <td>0.010632</td>\n",
       "      <td>0.005689</td>\n",
       "      <td>0.002422</td>\n",
       "      <td>0.227769</td>\n",
       "      <td>40.035236</td>\n",
       "      <td>0.002361</td>\n",
       "      <td>1.287582</td>\n",
       "    </tr>\n",
       "    <tr>\n",
       "      <th>12</th>\n",
       "      <td>(Lazer Razer Brief)</td>\n",
       "      <td>(Lazer Razer Adj. push triangle)</td>\n",
       "      <td>0.004644</td>\n",
       "      <td>0.001717</td>\n",
       "      <td>0.001012</td>\n",
       "      <td>0.217857</td>\n",
       "      <td>126.903364</td>\n",
       "      <td>0.001004</td>\n",
       "      <td>1.276344</td>\n",
       "    </tr>\n",
       "    <tr>\n",
       "      <th>4</th>\n",
       "      <td>(Timeless Midrise Brief)</td>\n",
       "      <td>(Simple as That Triangle Top)</td>\n",
       "      <td>0.010632</td>\n",
       "      <td>0.007605</td>\n",
       "      <td>0.001990</td>\n",
       "      <td>0.187207</td>\n",
       "      <td>24.616458</td>\n",
       "      <td>0.001910</td>\n",
       "      <td>1.220970</td>\n",
       "    </tr>\n",
       "    <tr>\n",
       "      <th>8</th>\n",
       "      <td>(Timeless Midrise Brief)</td>\n",
       "      <td>(New Girl Push Top)</td>\n",
       "      <td>0.010632</td>\n",
       "      <td>0.004495</td>\n",
       "      <td>0.001153</td>\n",
       "      <td>0.108424</td>\n",
       "      <td>24.121214</td>\n",
       "      <td>0.001105</td>\n",
       "      <td>1.116568</td>\n",
       "    </tr>\n",
       "    <tr>\n",
       "      <th>2</th>\n",
       "      <td>(Timeless Midrise Brief)</td>\n",
       "      <td>(Timeless Triangle Top)</td>\n",
       "      <td>0.010632</td>\n",
       "      <td>0.002986</td>\n",
       "      <td>0.001020</td>\n",
       "      <td>0.095944</td>\n",
       "      <td>32.135589</td>\n",
       "      <td>0.000988</td>\n",
       "      <td>1.102824</td>\n",
       "    </tr>\n",
       "  </tbody>\n",
       "</table>\n",
       "</div>"
      ],
      "text/plain": [
       "                         antecedents                       consequents  \\\n",
       "15          (The Low Line Highwaist)             (Timeless Sports Top)   \n",
       "10        (New Girl Wide Side Tanga)               (New Girl Push Top)   \n",
       "14             (Timeless Sports Top)          (The Low Line Highwaist)   \n",
       "13  (Lazer Razer Adj. push triangle)               (Lazer Razer Brief)   \n",
       "0      (Simple as that Cheeky Tanga)     (Simple as That Triangle Top)   \n",
       "1      (Simple as That Triangle Top)     (Simple as that Cheeky Tanga)   \n",
       "6           (Shake it in Balconette)          (Timeless Midrise Brief)   \n",
       "3            (Timeless Triangle Top)          (Timeless Midrise Brief)   \n",
       "5      (Simple as That Triangle Top)          (Timeless Midrise Brief)   \n",
       "9                (New Girl Push Top)          (Timeless Midrise Brief)   \n",
       "11               (New Girl Push Top)        (New Girl Wide Side Tanga)   \n",
       "7           (Timeless Midrise Brief)          (Shake it in Balconette)   \n",
       "12               (Lazer Razer Brief)  (Lazer Razer Adj. push triangle)   \n",
       "4           (Timeless Midrise Brief)     (Simple as That Triangle Top)   \n",
       "8           (Timeless Midrise Brief)               (New Girl Push Top)   \n",
       "2           (Timeless Midrise Brief)           (Timeless Triangle Top)   \n",
       "\n",
       "    antecedent support  consequent support   support  confidence        lift  \\\n",
       "15            0.001957            0.002214  0.001443    0.737288  332.964293   \n",
       "10            0.001650            0.004495  0.001128    0.683417  152.040127   \n",
       "14            0.002214            0.001957  0.001443    0.651685  332.964293   \n",
       "13            0.001717            0.004644  0.001012    0.589372  126.903364   \n",
       "0             0.006485            0.007605  0.003641    0.561381   73.817632   \n",
       "1             0.007605            0.006485  0.003641    0.478735   73.817632   \n",
       "6             0.005689            0.010632  0.002422    0.425656   40.035236   \n",
       "3             0.002986            0.010632  0.001020    0.341667   32.135589   \n",
       "5             0.007605            0.010632  0.001990    0.261723   24.616458   \n",
       "9             0.004495            0.010632  0.001153    0.256458   24.121214   \n",
       "11            0.004495            0.001650  0.001128    0.250923  152.040127   \n",
       "7             0.010632            0.005689  0.002422    0.227769   40.035236   \n",
       "12            0.004644            0.001717  0.001012    0.217857  126.903364   \n",
       "4             0.010632            0.007605  0.001990    0.187207   24.616458   \n",
       "8             0.010632            0.004495  0.001153    0.108424   24.121214   \n",
       "2             0.010632            0.002986  0.001020    0.095944   32.135589   \n",
       "\n",
       "    leverage  conviction  \n",
       "15  0.001439    3.798023  \n",
       "10  0.001120    3.144532  \n",
       "14  0.001439    2.865349  \n",
       "13  0.001004    2.423984  \n",
       "0   0.003591    2.262545  \n",
       "1   0.003591    1.905968  \n",
       "6   0.002361    1.722605  \n",
       "3   0.000988    1.502837  \n",
       "5   0.001910    1.340104  \n",
       "9   0.001105    1.330614  \n",
       "11  0.001120    1.332772  \n",
       "7   0.002361    1.287582  \n",
       "12  0.001004    1.276344  \n",
       "4   0.001910    1.220970  \n",
       "8   0.001105    1.116568  \n",
       "2   0.000988    1.102824  "
      ]
     },
     "execution_count": 138,
     "metadata": {},
     "output_type": "execute_result"
    }
   ],
   "source": [
    "#age30-40\n",
    "apriori_rules"
   ]
  },
  {
   "cell_type": "code",
   "execution_count": null,
   "id": "64ef726b",
   "metadata": {},
   "outputs": [],
   "source": []
  }
 ],
 "metadata": {
  "kernelspec": {
   "display_name": "Python 3 (ipykernel)",
   "language": "python",
   "name": "python3"
  },
  "language_info": {
   "codemirror_mode": {
    "name": "ipython",
    "version": 3
   },
   "file_extension": ".py",
   "mimetype": "text/x-python",
   "name": "python",
   "nbconvert_exporter": "python",
   "pygments_lexer": "ipython3",
   "version": "3.8.13"
  }
 },
 "nbformat": 4,
 "nbformat_minor": 5
}
