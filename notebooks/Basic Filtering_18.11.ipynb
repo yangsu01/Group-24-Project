{
 "cells": [
  {
   "cell_type": "markdown",
   "id": "db11cf1b",
   "metadata": {},
   "source": [
    "# Basic Filtering that I have been using for analysis so far\n",
    "\n",
    "It's not very technical, open to improvements"
   ]
  },
  {
   "cell_type": "code",
   "execution_count": 1,
   "id": "a3ec168b",
   "metadata": {},
   "outputs": [],
   "source": [
    "import pandas as pd"
   ]
  },
  {
   "cell_type": "code",
   "execution_count": 2,
   "id": "a19d7878",
   "metadata": {},
   "outputs": [],
   "source": [
    "#read csv files and store them as pandas dataframes\n",
    "\n",
    "raw_articles_df = pd.read_csv ('articles.csv')\n",
    "raw_train_df = pd.read_csv ('transactions_train.csv')\n",
    "raw_customers_df = pd.read_csv ('customers.csv')"
   ]
  },
  {
   "cell_type": "code",
   "execution_count": 3,
   "id": "2cecee0d",
   "metadata": {},
   "outputs": [
    {
     "data": {
      "text/plain": [
       "12710949   2019-06-26\n",
       "21463275   2020-01-20\n",
       "6762380    2019-02-27\n",
       "12325960   2019-06-22\n",
       "491263     2018-09-29\n",
       "              ...    \n",
       "9846753    2019-05-05\n",
       "5251936    2019-01-21\n",
       "29469699   2020-07-25\n",
       "5647044    2019-01-31\n",
       "14734211   2019-07-29\n",
       "Name: t_dat, Length: 3178832, dtype: datetime64[ns]"
      ]
     },
     "execution_count": 3,
     "metadata": {},
     "output_type": "execute_result"
    }
   ],
   "source": [
    "#take sample of transaction data (10% of 32 million individual transactions)\n",
    "\n",
    "df_sample = raw_train_df.sample(frac=.1, replace=True, random_state=1)\n",
    "pd.to_datetime(df_sample['t_dat']) "
   ]
  },
  {
   "cell_type": "code",
   "execution_count": 12,
   "id": "9a73d58f",
   "metadata": {},
   "outputs": [],
   "source": [
    "#example code for adding a column from one df to another\n",
    "#can add patterns, department, basically anything. this just adds product type, age, and product color\n",
    "\n",
    "id_type_dict = dict(zip(raw_articles_df.article_id, raw_articles_df.product_type_name))\n",
    "df_sample['product_type'] = df_sample['article_id'].map(id_type_dict)\n",
    "\n",
    "id_color_dict = dict(zip(raw_articles_df.article_id, raw_articles_df.colour_group_name))\n",
    "df_sample['color'] = df_sample['article_id'].map(id_color_dict)\n",
    "\n",
    "id_age_dict = dict(zip(raw_customers_df.customer_id, raw_customers_df.age))\n",
    "df_sample['age'] = df_sample['customer_id'].map(id_age_dict)"
   ]
  },
  {
   "cell_type": "code",
   "execution_count": 15,
   "id": "0767fc72",
   "metadata": {},
   "outputs": [],
   "source": [
    "df = df_sample.set_index('customer_id')\n",
    "\n",
    "#extract month from date if you want\n",
    "df['month'] = pd.DatetimeIndex(df['t_dat']).month\n",
    "\n",
    "df['age_bin'] = pd.cut(df['age'], [0, 20, 30, 40, 50, 60, 70, 80, 90, 100], \n",
    "                              labels=['0-20', '20-30', '30-40', '40-50','50-60','60-70','70-80', '80-90','90-100'])\n",
    "\n",
    "#drop whatever columns you don't want, for example\n",
    "df = df.drop(['price', 'sales_channel_id', 'article_id', 't_dat', 'age'], axis = 1)"
   ]
  },
  {
   "cell_type": "code",
   "execution_count": 16,
   "id": "1b627edd",
   "metadata": {},
   "outputs": [
    {
     "data": {
      "text/html": [
       "<div>\n",
       "<style scoped>\n",
       "    .dataframe tbody tr th:only-of-type {\n",
       "        vertical-align: middle;\n",
       "    }\n",
       "\n",
       "    .dataframe tbody tr th {\n",
       "        vertical-align: top;\n",
       "    }\n",
       "\n",
       "    .dataframe thead th {\n",
       "        text-align: right;\n",
       "    }\n",
       "</style>\n",
       "<table border=\"1\" class=\"dataframe\">\n",
       "  <thead>\n",
       "    <tr style=\"text-align: right;\">\n",
       "      <th></th>\n",
       "      <th>product_type</th>\n",
       "      <th>color</th>\n",
       "      <th>month</th>\n",
       "      <th>age_bin</th>\n",
       "    </tr>\n",
       "    <tr>\n",
       "      <th>customer_id</th>\n",
       "      <th></th>\n",
       "      <th></th>\n",
       "      <th></th>\n",
       "      <th></th>\n",
       "    </tr>\n",
       "  </thead>\n",
       "  <tbody>\n",
       "    <tr>\n",
       "      <th>505d66fbc88b4300e6b4d11c26bfe4dd3857e21c07f86aa4e5d293b84201f619</th>\n",
       "      <td>Vest top</td>\n",
       "      <td>Orange</td>\n",
       "      <td>6</td>\n",
       "      <td>20-30</td>\n",
       "    </tr>\n",
       "    <tr>\n",
       "      <th>016fb4c5d61afcb3ff1b907c0d6f00ab9f4e4071ca22a4dad7d88e410ae35fda</th>\n",
       "      <td>Dress</td>\n",
       "      <td>Yellowish Brown</td>\n",
       "      <td>6</td>\n",
       "      <td>70-80</td>\n",
       "    </tr>\n",
       "    <tr>\n",
       "      <th>88beadfe55a64381384b9c83334e3bb13be26374873b0dc108343f6bf3e7e9b9</th>\n",
       "      <td>T-shirt</td>\n",
       "      <td>Red</td>\n",
       "      <td>9</td>\n",
       "      <td>20-30</td>\n",
       "    </tr>\n",
       "    <tr>\n",
       "      <th>9c8761fcb2106e9664601a1cd87b79bc99b9049b0dbe787eb1efeb178fa11c81</th>\n",
       "      <td>T-shirt</td>\n",
       "      <td>Beige</td>\n",
       "      <td>7</td>\n",
       "      <td>30-40</td>\n",
       "    </tr>\n",
       "    <tr>\n",
       "      <th>78971a184035137737aecedfce711be93b6a603161d908a33313186bdbc78303</th>\n",
       "      <td>Cardigan</td>\n",
       "      <td>Light Beige</td>\n",
       "      <td>3</td>\n",
       "      <td>50-60</td>\n",
       "    </tr>\n",
       "  </tbody>\n",
       "</table>\n",
       "</div>"
      ],
      "text/plain": [
       "                                                   product_type  \\\n",
       "customer_id                                                       \n",
       "505d66fbc88b4300e6b4d11c26bfe4dd3857e21c07f86aa...     Vest top   \n",
       "016fb4c5d61afcb3ff1b907c0d6f00ab9f4e4071ca22a4d...        Dress   \n",
       "88beadfe55a64381384b9c83334e3bb13be26374873b0dc...      T-shirt   \n",
       "9c8761fcb2106e9664601a1cd87b79bc99b9049b0dbe787...      T-shirt   \n",
       "78971a184035137737aecedfce711be93b6a603161d908a...     Cardigan   \n",
       "\n",
       "                                                              color  month  \\\n",
       "customer_id                                                                  \n",
       "505d66fbc88b4300e6b4d11c26bfe4dd3857e21c07f86aa...           Orange      6   \n",
       "016fb4c5d61afcb3ff1b907c0d6f00ab9f4e4071ca22a4d...  Yellowish Brown      6   \n",
       "88beadfe55a64381384b9c83334e3bb13be26374873b0dc...              Red      9   \n",
       "9c8761fcb2106e9664601a1cd87b79bc99b9049b0dbe787...            Beige      7   \n",
       "78971a184035137737aecedfce711be93b6a603161d908a...      Light Beige      3   \n",
       "\n",
       "                                                   age_bin  \n",
       "customer_id                                                 \n",
       "505d66fbc88b4300e6b4d11c26bfe4dd3857e21c07f86aa...   20-30  \n",
       "016fb4c5d61afcb3ff1b907c0d6f00ab9f4e4071ca22a4d...   70-80  \n",
       "88beadfe55a64381384b9c83334e3bb13be26374873b0dc...   20-30  \n",
       "9c8761fcb2106e9664601a1cd87b79bc99b9049b0dbe787...   30-40  \n",
       "78971a184035137737aecedfce711be93b6a603161d908a...   50-60  "
      ]
     },
     "execution_count": 16,
     "metadata": {},
     "output_type": "execute_result"
    }
   ],
   "source": [
    "#drop highest colors and category, and low sellers\n",
    "\n",
    "df = df[df.color != 'Black' ]\n",
    "df = df[df.color != 'White' ]\n",
    "df = df[df.color != 'Dark Blue' ]\n",
    "\n",
    "df = df[df.product_type != 'Trousers' ]\n",
    "\n",
    "df = df[df.groupby('product_type').product_type.transform(len) > 1000]\n",
    "df = df.dropna()\n",
    "\n",
    "df.head()"
   ]
  },
  {
   "cell_type": "code",
   "execution_count": null,
   "id": "3fbf94c9",
   "metadata": {},
   "outputs": [],
   "source": []
  }
 ],
 "metadata": {
  "kernelspec": {
   "display_name": "Python 3",
   "language": "python",
   "name": "python3"
  },
  "language_info": {
   "codemirror_mode": {
    "name": "ipython",
    "version": 3
   },
   "file_extension": ".py",
   "mimetype": "text/x-python",
   "name": "python",
   "nbconvert_exporter": "python",
   "pygments_lexer": "ipython3",
   "version": "3.9.12"
  }
 },
 "nbformat": 4,
 "nbformat_minor": 5
}
